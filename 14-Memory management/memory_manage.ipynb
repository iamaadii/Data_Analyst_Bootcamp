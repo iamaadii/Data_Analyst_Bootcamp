{
 "cells": [
  {
   "cell_type": "markdown",
   "id": "6a060144",
   "metadata": {},
   "source": [
    "Python Memory Management\n",
    "\n",
    "Memory management in Python involves a combination of automatic garbage collection, reference counting, and various internal optimizations to efficiently manage memory allocation and deallocation. Understanding these mechanisms can help developers write more efficient and robust applications.\n",
    "\n",
    "- Key Concepts in Python Memory Management\n",
    "- Memory Allocation and Deallocation\n",
    "- Reference Counting\n",
    "- Garbage Collection\n",
    "- The gc Module\n",
    "- Memory Management Best Practices"
   ]
  },
  {
   "cell_type": "markdown",
   "id": "3411012b",
   "metadata": {},
   "source": [
    "Reference Counting\n",
    "\n",
    "Reference counting is the primary method Python uses to manage memory. Each object in Python maintains a count of references pointing to it. When the reference count drops to zero, the memory occupied by the object is deallocated."
   ]
  },
  {
   "cell_type": "code",
   "execution_count": 1,
   "id": "0d2cd62c",
   "metadata": {},
   "outputs": [
    {
     "name": "stdout",
     "output_type": "stream",
     "text": [
      "2\n"
     ]
    }
   ],
   "source": [
    "import sys\n",
    "a=[]\n",
    "print(sys.getrefcount(a)) ## 2 (one reference from 'a' and one from getrefcount())"
   ]
  },
  {
   "cell_type": "code",
   "execution_count": 2,
   "id": "7bb7e8b7",
   "metadata": {},
   "outputs": [
    {
     "name": "stdout",
     "output_type": "stream",
     "text": [
      "3\n",
      "3\n"
     ]
    }
   ],
   "source": [
    "b=a\n",
    "print(sys.getrefcount(a)) ## 3 (one reference from 'a' one from 'b' and one from getrefcount())\n",
    "print(sys.getrefcount(b))"
   ]
  },
  {
   "cell_type": "code",
   "execution_count": 3,
   "id": "a855a433",
   "metadata": {},
   "outputs": [
    {
     "name": "stdout",
     "output_type": "stream",
     "text": [
      "2\n"
     ]
    }
   ],
   "source": [
    "del b\n",
    "print(sys.getrefcount(a))"
   ]
  },
  {
   "cell_type": "markdown",
   "id": "3dea218c",
   "metadata": {},
   "source": [
    "Garbage Collection\n",
    "\n",
    "Python includes a cyclic garbage collector to handle reference cycles. Reference cycles occur when objects reference each other, preventing their reference counts from reaching zero."
   ]
  },
  {
   "cell_type": "code",
   "execution_count": 5,
   "id": "97db4f62",
   "metadata": {},
   "outputs": [],
   "source": [
    "import gc\n",
    "gc.enable()"
   ]
  },
  {
   "cell_type": "code",
   "execution_count": 6,
   "id": "0c21974d",
   "metadata": {},
   "outputs": [],
   "source": [
    "gc.disable()"
   ]
  },
  {
   "cell_type": "code",
   "execution_count": 7,
   "id": "4d86c892",
   "metadata": {},
   "outputs": [
    {
     "data": {
      "text/plain": [
       "567"
      ]
     },
     "execution_count": 7,
     "metadata": {},
     "output_type": "execute_result"
    }
   ],
   "source": [
    "gc.collect()"
   ]
  },
  {
   "cell_type": "code",
   "execution_count": 8,
   "id": "6700ee8a",
   "metadata": {},
   "outputs": [
    {
     "name": "stdout",
     "output_type": "stream",
     "text": [
      "[{'collections': 67, 'collected': 1621, 'uncollectable': 0}, {'collections': 6, 'collected': 266, 'uncollectable': 0}, {'collections': 1, 'collected': 567, 'uncollectable': 0}]\n"
     ]
    }
   ],
   "source": [
    "print(gc.get_stats()) #get garbage collection stats"
   ]
  },
  {
   "cell_type": "code",
   "execution_count": null,
   "id": "60451d28",
   "metadata": {},
   "outputs": [
    {
     "data": {
      "text/plain": [
       "[]"
      ]
     },
     "execution_count": 10,
     "metadata": {},
     "output_type": "execute_result"
    }
   ],
   "source": [
    "gc.garbage #get unreachable objects "
   ]
  },
  {
   "cell_type": "markdown",
   "id": "66affe75",
   "metadata": {},
   "source": [
    "Memory Management Best Practices\n",
    "1. Use Local Variables: Local variables have a shorter lifespan and are freed sooner than global variables.\n",
    "2. Avoid Circular References: Circular references can lead to memory leaks if not properly managed.\n",
    "3. Use Generators: Generators produce items one at a time and only keep one item in memory at a time, making them memory efficient.\n",
    "4. Explicitly Delete Objects: Use the del statement to delete variables and objects explicitly.\n",
    "5. Profile Memory Usage: Use memory profiling tools like tracemalloc and memory_profiler to identify memory leaks and optimize memory usage."
   ]
  },
  {
   "cell_type": "code",
   "execution_count": 21,
   "id": "2539f67c",
   "metadata": {},
   "outputs": [
    {
     "name": "stdout",
     "output_type": "stream",
     "text": [
      "Object obj1 created\n",
      "Object obj2 created\n",
      "Object obj1 deleted\n",
      "Object obj2 deleted\n"
     ]
    },
    {
     "data": {
      "text/plain": [
       "9"
      ]
     },
     "execution_count": 21,
     "metadata": {},
     "output_type": "execute_result"
    }
   ],
   "source": [
    "## Handled Circular reference\n",
    "import gc\n",
    "\n",
    "class MyObject:\n",
    "    def __init__(self, name):\n",
    "        self.name = name\n",
    "        print(f\"Object {self.name} created\")\n",
    "\n",
    "    def __del__(self):\n",
    "        print(f\"Object {self.name} deleted\")\n",
    "\n",
    "# Create circular reference\n",
    "obj1 = MyObject(\"obj1\")\n",
    "obj2 = MyObject(\"obj2\")\n",
    "obj1.ref = obj2\n",
    "obj2.ref = obj1\n",
    "\n",
    "del obj2\n",
    "del obj1\n",
    "\n",
    "## Manually trigger the garbage collection\n",
    "gc.collect()"
   ]
  },
  {
   "cell_type": "code",
   "execution_count": 22,
   "id": "8d3ea013",
   "metadata": {},
   "outputs": [
    {
     "name": "stdout",
     "output_type": "stream",
     "text": [
      "0\n",
      "1\n",
      "2\n",
      "3\n",
      "4\n",
      "5\n",
      "6\n",
      "7\n",
      "8\n",
      "9\n",
      "10\n",
      "11\n"
     ]
    }
   ],
   "source": [
    "#generators for memory efficiency\n",
    "def generate_numbers(n):\n",
    "    for i in range(n):\n",
    "        yield i\n",
    "\n",
    "## using the generator\n",
    "for num in generate_numbers(100000):\n",
    "    print(num)\n",
    "    if num>10:\n",
    "        break"
   ]
  },
  {
   "cell_type": "code",
   "execution_count": 27,
   "id": "298514c3",
   "metadata": {},
   "outputs": [
    {
     "name": "stdout",
     "output_type": "stream",
     "text": [
      "[ Top 10 ]\n",
      "d:\\Data_Analyst_Bootcamp\\myenv\\Lib\\selectors.py:305: size=144 KiB, count=3, average=48.0 KiB\n",
      "d:\\Data_Analyst_Bootcamp\\myenv\\Lib\\site-packages\\IPython\\core\\compilerop.py:86: size=11.7 KiB, count=107, average=111 B\n",
      "d:\\Data_Analyst_Bootcamp\\myenv\\Lib\\tracemalloc.py:67: size=5952 B, count=93, average=64 B\n",
      "d:\\Data_Analyst_Bootcamp\\myenv\\Lib\\tracemalloc.py:558: size=4440 B, count=92, average=48 B\n",
      "d:\\Data_Analyst_Bootcamp\\myenv\\Lib\\asyncio\\selector_events.py:132: size=4211 B, count=3, average=1404 B\n",
      "d:\\Data_Analyst_Bootcamp\\myenv\\Lib\\json\\decoder.py:361: size=3388 B, count=36, average=94 B\n",
      "d:\\Data_Analyst_Bootcamp\\myenv\\Lib\\site-packages\\IPython\\core\\compilerop.py:174: size=2137 B, count=28, average=76 B\n",
      "d:\\Data_Analyst_Bootcamp\\myenv\\Lib\\codeop.py:118: size=2078 B, count=24, average=87 B\n",
      "d:\\Data_Analyst_Bootcamp\\myenv\\Lib\\tracemalloc.py:193: size=1968 B, count=41, average=48 B\n",
      "d:\\Data_Analyst_Bootcamp\\myenv\\Lib\\site-packages\\zmq\\sugar\\attrsettr.py:45: size=1927 B, count=41, average=47 B\n",
      "d:\\Data_Analyst_Bootcamp\\myenv\\Lib\\site-packages\\traitlets\\traitlets.py:731: size=1925 B, count=31, average=62 B\n",
      "d:\\Data_Analyst_Bootcamp\\myenv\\Lib\\site-packages\\traitlets\\traitlets.py:1543: size=1771 B, count=29, average=61 B\n",
      "d:\\Data_Analyst_Bootcamp\\myenv\\Lib\\threading.py:297: size=1520 B, count=4, average=380 B\n",
      "d:\\Data_Analyst_Bootcamp\\myenv\\Lib\\site-packages\\jupyter_client\\jsonutil.py:111: size=1400 B, count=28, average=50 B\n",
      "d:\\Data_Analyst_Bootcamp\\myenv\\Lib\\site-packages\\traitlets\\traitlets.py:1514: size=1320 B, count=11, average=120 B\n",
      "d:\\Data_Analyst_Bootcamp\\myenv\\Lib\\site-packages\\jupyter_client\\session.py:1057: size=1271 B, count=7, average=182 B\n",
      "d:\\Data_Analyst_Bootcamp\\myenv\\Lib\\site-packages\\IPython\\core\\history.py:941: size=1168 B, count=3, average=389 B\n",
      "d:\\Data_Analyst_Bootcamp\\myenv\\Lib\\site-packages\\zmq\\sugar\\socket.py:811: size=1056 B, count=6, average=176 B\n",
      "d:\\Data_Analyst_Bootcamp\\myenv\\Lib\\site-packages\\IPython\\core\\interactiveshell.py:3352: size=780 B, count=2, average=390 B\n",
      "d:\\Data_Analyst_Bootcamp\\myenv\\Lib\\site-packages\\IPython\\core\\history.py:994: size=696 B, count=7, average=99 B\n",
      "d:\\Data_Analyst_Bootcamp\\myenv\\Lib\\threading.py:294: size=560 B, count=4, average=140 B\n",
      "d:\\Data_Analyst_Bootcamp\\myenv\\Lib\\site-packages\\IPython\\core\\interactiveshell.py:3076: size=528 B, count=4, average=132 B\n",
      "d:\\Data_Analyst_Bootcamp\\myenv\\Lib\\asyncio\\events.py:89: size=520 B, count=6, average=87 B\n",
      "d:\\Data_Analyst_Bootcamp\\myenv\\Lib\\asyncio\\futures.py:391: size=464 B, count=4, average=116 B\n",
      "d:\\Data_Analyst_Bootcamp\\myenv\\Lib\\site-packages\\ipykernel\\kernelbase.py:775: size=432 B, count=2, average=216 B\n",
      "d:\\Data_Analyst_Bootcamp\\myenv\\Lib\\site-packages\\jupyter_client\\jsonutil.py:75: size=416 B, count=2, average=208 B\n",
      "d:\\Data_Analyst_Bootcamp\\myenv\\Lib\\asyncio\\base_events.py:459: size=408 B, count=3, average=136 B\n",
      "d:\\Data_Analyst_Bootcamp\\myenv\\Lib\\site-packages\\IPython\\core\\interactiveshell.py:3306: size=376 B, count=1, average=376 B\n",
      "d:\\Data_Analyst_Bootcamp\\myenv\\Lib\\site-packages\\ipykernel\\ipkernel.py:362: size=368 B, count=1, average=368 B\n",
      "d:\\Data_Analyst_Bootcamp\\myenv\\Lib\\asyncio\\futures.py:415: size=360 B, count=9, average=40 B\n",
      "d:\\Data_Analyst_Bootcamp\\myenv\\Lib\\site-packages\\ipykernel\\iostream.py:346: size=360 B, count=3, average=120 B\n",
      "d:\\Data_Analyst_Bootcamp\\myenv\\Lib\\site-packages\\ipykernel\\iostream.py:287: size=360 B, count=3, average=120 B\n",
      "d:\\Data_Analyst_Bootcamp\\myenv\\Lib\\asyncio\\futures.py:378: size=320 B, count=2, average=160 B\n",
      "d:\\Data_Analyst_Bootcamp\\myenv\\Lib\\asyncio\\base_events.py:853: size=312 B, count=3, average=104 B\n",
      "d:\\Data_Analyst_Bootcamp\\myenv\\Lib\\site-packages\\IPython\\core\\interactiveshell.py:3489: size=296 B, count=1, average=296 B\n",
      "d:\\Data_Analyst_Bootcamp\\myenv\\Lib\\site-packages\\ipykernel\\iostream.py:527: size=272 B, count=4, average=68 B\n",
      "d:\\Data_Analyst_Bootcamp\\myenv\\Lib\\site-packages\\tornado\\queues.py:248: size=272 B, count=2, average=136 B\n",
      "d:\\Data_Analyst_Bootcamp\\myenv\\Lib\\site-packages\\ipykernel\\kernelbase.py:534: size=272 B, count=1, average=272 B\n",
      "d:\\Data_Analyst_Bootcamp\\myenv\\Lib\\logging\\__init__.py:1602: size=264 B, count=1, average=264 B\n",
      "d:\\Data_Analyst_Bootcamp\\myenv\\Lib\\site-packages\\ipykernel\\kernelbase.py:435: size=248 B, count=1, average=248 B\n",
      "d:\\Data_Analyst_Bootcamp\\myenv\\Lib\\site-packages\\ipykernel\\iostream.py:121: size=248 B, count=1, average=248 B\n",
      "d:\\Data_Analyst_Bootcamp\\myenv\\Lib\\site-packages\\ipykernel\\kernelbase.py:318: size=240 B, count=2, average=120 B\n",
      "d:\\Data_Analyst_Bootcamp\\myenv\\Lib\\site-packages\\ipykernel\\kernelbase.py:545: size=232 B, count=1, average=232 B\n",
      "d:\\Data_Analyst_Bootcamp\\myenv\\Lib\\site-packages\\ipykernel\\zmqshell.py:549: size=224 B, count=3, average=75 B\n",
      "d:\\Data_Analyst_Bootcamp\\myenv\\Lib\\site-packages\\IPython\\core\\interactiveshell.py:3195: size=224 B, count=2, average=112 B\n",
      "d:\\Data_Analyst_Bootcamp\\myenv\\Lib\\asyncio\\futures.py:384: size=224 B, count=2, average=112 B\n",
      "d:\\Data_Analyst_Bootcamp\\myenv\\Lib\\site-packages\\ipykernel\\compiler.py:91: size=210 B, count=2, average=105 B\n",
      "d:\\Data_Analyst_Bootcamp\\myenv\\Lib\\site-packages\\IPython\\core\\interactiveshell.py:3196: size=208 B, count=2, average=104 B\n",
      "d:\\Data_Analyst_Bootcamp\\myenv\\Lib\\concurrent\\futures\\_base.py:330: size=208 B, count=2, average=104 B\n",
      "d:\\Data_Analyst_Bootcamp\\myenv\\Lib\\site-packages\\jupyter_client\\session.py:1085: size=208 B, count=1, average=208 B\n",
      "d:\\Data_Analyst_Bootcamp\\myenv\\Lib\\site-packages\\ipykernel\\kernelbase.py:770: size=208 B, count=1, average=208 B\n",
      "d:\\Data_Analyst_Bootcamp\\myenv\\Lib\\site-packages\\tornado\\platform\\asyncio.py:235: size=192 B, count=3, average=64 B\n",
      "d:\\Data_Analyst_Bootcamp\\myenv\\Lib\\contextlib.py:109: size=192 B, count=1, average=192 B\n",
      "d:\\Data_Analyst_Bootcamp\\myenv\\Lib\\threading.py:139: size=176 B, count=4, average=44 B\n",
      "d:\\Data_Analyst_Bootcamp\\myenv\\Lib\\site-packages\\zmq\\sugar\\socket.py:808: size=176 B, count=1, average=176 B\n",
      "d:\\Data_Analyst_Bootcamp\\myenv\\Lib\\site-packages\\ipykernel\\kernelbase.py:570: size=160 B, count=1, average=160 B\n",
      "d:\\Data_Analyst_Bootcamp\\myenv\\Lib\\site-packages\\IPython\\core\\interactiveshell.py:3549: size=160 B, count=1, average=160 B\n",
      "d:\\Data_Analyst_Bootcamp\\myenv\\Lib\\site-packages\\IPython\\core\\interactiveshell.py:3465: size=160 B, count=1, average=160 B\n",
      "d:\\Data_Analyst_Bootcamp\\myenv\\Lib\\site-packages\\IPython\\core\\interactiveshell.py:3209: size=160 B, count=1, average=160 B\n",
      "C:\\Users\\ADITYA\\AppData\\Local\\Temp\\ipykernel_22192\\3579738153.py:7: size=160 B, count=1, average=160 B\n",
      "C:\\Users\\ADITYA\\AppData\\Local\\Temp\\ipykernel_22192\\3579738153.py:4: size=160 B, count=1, average=160 B\n",
      "d:\\Data_Analyst_Bootcamp\\myenv\\Lib\\site-packages\\ipykernel\\iostream.py:684: size=150 B, count=3, average=50 B\n",
      "d:\\Data_Analyst_Bootcamp\\myenv\\Lib\\threading.py:296: size=144 B, count=2, average=72 B\n",
      "d:\\Data_Analyst_Bootcamp\\myenv\\Lib\\threading.py:292: size=144 B, count=2, average=72 B\n",
      "d:\\Data_Analyst_Bootcamp\\myenv\\Lib\\threading.py:287: size=144 B, count=2, average=72 B\n",
      "d:\\Data_Analyst_Bootcamp\\myenv\\Lib\\threading.py:286: size=144 B, count=2, average=72 B\n",
      "d:\\Data_Analyst_Bootcamp\\myenv\\Lib\\site-packages\\ipykernel\\iostream.py:722: size=144 B, count=2, average=72 B\n",
      "d:\\Data_Analyst_Bootcamp\\myenv\\Lib\\site-packages\\IPython\\core\\history.py:965: size=135 B, count=3, average=45 B\n",
      "d:\\Data_Analyst_Bootcamp\\myenv\\Lib\\inspect.py:266: size=120 B, count=1, average=120 B\n",
      "d:\\Data_Analyst_Bootcamp\\myenv\\Lib\\asyncio\\base_events.py:816: size=120 B, count=1, average=120 B\n",
      "d:\\Data_Analyst_Bootcamp\\myenv\\Lib\\site-packages\\decorator.py:235: size=112 B, count=2, average=56 B\n",
      "d:\\Data_Analyst_Bootcamp\\myenv\\Lib\\contextlib.py:305: size=112 B, count=1, average=112 B\n",
      "d:\\Data_Analyst_Bootcamp\\myenv\\Lib\\site-packages\\jupyter_client\\session.py:989: size=111 B, count=2, average=56 B\n",
      "d:\\Data_Analyst_Bootcamp\\myenv\\Lib\\site-packages\\dateutil\\parser\\isoparser.py:146: size=96 B, count=2, average=48 B\n",
      "d:\\Data_Analyst_Bootcamp\\myenv\\Lib\\site-packages\\IPython\\core\\history.py:952: size=96 B, count=2, average=48 B\n",
      "d:\\Data_Analyst_Bootcamp\\myenv\\Lib\\site-packages\\IPython\\core\\history.py:1013: size=72 B, count=1, average=72 B\n",
      "d:\\Data_Analyst_Bootcamp\\myenv\\Lib\\site-packages\\IPython\\core\\history.py:992: size=72 B, count=1, average=72 B\n",
      "d:\\Data_Analyst_Bootcamp\\myenv\\Lib\\site-packages\\IPython\\core\\compilerop.py:171: size=72 B, count=1, average=72 B\n",
      "d:\\Data_Analyst_Bootcamp\\myenv\\Lib\\site-packages\\IPython\\core\\interactiveshell.py:3481: size=64 B, count=2, average=32 B\n",
      "d:\\Data_Analyst_Bootcamp\\myenv\\Lib\\concurrent\\futures\\_base.py:421: size=64 B, count=2, average=32 B\n",
      "d:\\Data_Analyst_Bootcamp\\myenv\\Lib\\asyncio\\base_events.py:2024: size=64 B, count=2, average=32 B\n",
      "d:\\Data_Analyst_Bootcamp\\myenv\\Lib\\site-packages\\zmq\\sugar\\socket.py:812: size=64 B, count=1, average=64 B\n",
      "d:\\Data_Analyst_Bootcamp\\myenv\\Lib\\site-packages\\jupyter_client\\jsonutil.py:73: size=64 B, count=1, average=64 B\n",
      "d:\\Data_Analyst_Bootcamp\\myenv\\Lib\\site-packages\\ipykernel\\kernelbase.py:721: size=64 B, count=1, average=64 B\n",
      "d:\\Data_Analyst_Bootcamp\\myenv\\Lib\\site-packages\\ipykernel\\ipkernel.py:384: size=64 B, count=1, average=64 B\n",
      "d:\\Data_Analyst_Bootcamp\\myenv\\Lib\\site-packages\\ipykernel\\ipkernel.py:383: size=64 B, count=1, average=64 B\n",
      "d:\\Data_Analyst_Bootcamp\\myenv\\Lib\\site-packages\\ipykernel\\ipkernel.py:294: size=64 B, count=1, average=64 B\n",
      "d:\\Data_Analyst_Bootcamp\\myenv\\Lib\\site-packages\\ipykernel\\ipkernel.py:291: size=64 B, count=1, average=64 B\n",
      "d:\\Data_Analyst_Bootcamp\\myenv\\Lib\\site-packages\\IPython\\core\\interactiveshell.py:3538: size=64 B, count=1, average=64 B\n",
      "d:\\Data_Analyst_Bootcamp\\myenv\\Lib\\site-packages\\IPython\\core\\interactiveshell.py:3487: size=64 B, count=1, average=64 B\n",
      "d:\\Data_Analyst_Bootcamp\\myenv\\Lib\\site-packages\\IPython\\core\\interactiveshell.py:3275: size=64 B, count=1, average=64 B\n",
      "d:\\Data_Analyst_Bootcamp\\myenv\\Lib\\site-packages\\IPython\\core\\interactiveshell.py:3272: size=64 B, count=1, average=64 B\n",
      "d:\\Data_Analyst_Bootcamp\\myenv\\Lib\\site-packages\\IPython\\core\\history.py:1094: size=64 B, count=1, average=64 B\n",
      "d:\\Data_Analyst_Bootcamp\\myenv\\Lib\\asyncio\\events.py:38: size=64 B, count=1, average=64 B\n",
      "d:\\Data_Analyst_Bootcamp\\myenv\\Lib\\site-packages\\IPython\\core\\compilerop.py:172: size=56 B, count=2, average=28 B\n",
      "d:\\Data_Analyst_Bootcamp\\myenv\\Lib\\site-packages\\IPython\\core\\interactiveshell.py:3470: size=56 B, count=1, average=56 B\n",
      "d:\\Data_Analyst_Bootcamp\\myenv\\Lib\\selectors.py:312: size=56 B, count=1, average=56 B\n",
      "d:\\Data_Analyst_Bootcamp\\myenv\\Lib\\tracemalloc.py:207: size=48 B, count=1, average=48 B\n",
      "d:\\Data_Analyst_Bootcamp\\myenv\\Lib\\site-packages\\tornado\\concurrent.py:193: size=48 B, count=1, average=48 B\n",
      "d:\\Data_Analyst_Bootcamp\\myenv\\Lib\\site-packages\\jupyter_client\\session.py:200: size=48 B, count=1, average=48 B\n",
      "d:\\Data_Analyst_Bootcamp\\myenv\\Lib\\site-packages\\IPython\\core\\interactiveshell.py:3477: size=48 B, count=1, average=48 B\n",
      "d:\\Data_Analyst_Bootcamp\\myenv\\Lib\\site-packages\\IPython\\core\\interactiveshell.py:3053: size=48 B, count=1, average=48 B\n",
      "d:\\Data_Analyst_Bootcamp\\myenv\\Lib\\site-packages\\IPython\\core\\history.py:993: size=48 B, count=1, average=48 B\n",
      "d:\\Data_Analyst_Bootcamp\\myenv\\Lib\\site-packages\\IPython\\core\\interactiveshell.py:3457: size=32 B, count=2, average=16 B\n",
      "d:\\Data_Analyst_Bootcamp\\myenv\\Lib\\site-packages\\jupyter_client\\session.py:996: size=32 B, count=1, average=32 B\n",
      "d:\\Data_Analyst_Bootcamp\\myenv\\Lib\\site-packages\\jupyter_client\\session.py:603: size=32 B, count=1, average=32 B\n",
      "d:\\Data_Analyst_Bootcamp\\myenv\\Lib\\site-packages\\ipykernel\\iostream.py:637: size=32 B, count=1, average=32 B\n",
      "d:\\Data_Analyst_Bootcamp\\myenv\\Lib\\site-packages\\IPython\\core\\interactiveshell.py:3472: size=32 B, count=1, average=32 B\n",
      "d:\\Data_Analyst_Bootcamp\\myenv\\Lib\\site-packages\\IPython\\core\\compilerop.py:192: size=32 B, count=1, average=32 B\n",
      "d:\\Data_Analyst_Bootcamp\\myenv\\Lib\\asyncio\\base_events.py:819: size=32 B, count=1, average=32 B\n"
     ]
    }
   ],
   "source": [
    "## Profiling Memory USage with tracemalloc\n",
    "import tracemalloc\n",
    "\n",
    "def create_list():\n",
    "    return [i for i in range(10000)]\n",
    "\n",
    "def main():\n",
    "    tracemalloc.start()\n",
    "    \n",
    "    create_list()\n",
    "    \n",
    "    snapshot = tracemalloc.take_snapshot()\n",
    "    top_stats = snapshot.statistics('lineno')\n",
    "    \n",
    "    print(\"[ Top 10 ]\")\n",
    "    for stat in top_stats[::]:\n",
    "        print(stat)\n",
    "        \n",
    "main()"
   ]
  },
  {
   "cell_type": "code",
   "execution_count": null,
   "id": "cfa17c98",
   "metadata": {},
   "outputs": [],
   "source": []
  }
 ],
 "metadata": {
  "kernelspec": {
   "display_name": "Python 3",
   "language": "python",
   "name": "python3"
  },
  "language_info": {
   "codemirror_mode": {
    "name": "ipython",
    "version": 3
   },
   "file_extension": ".py",
   "mimetype": "text/x-python",
   "name": "python",
   "nbconvert_exporter": "python",
   "pygments_lexer": "ipython3",
   "version": "3.13.2"
  }
 },
 "nbformat": 4,
 "nbformat_minor": 5
}
