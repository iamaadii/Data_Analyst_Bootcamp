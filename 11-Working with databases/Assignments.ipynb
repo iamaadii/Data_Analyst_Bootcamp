{
 "cells": [
  {
   "cell_type": "markdown",
   "id": "964cf61d",
   "metadata": {},
   "source": [
    "# Module: SQLite3 Assignments\n",
    "## Lesson: SQLite3\n",
    "### Assignment 1: Creating and Connecting to a Database\n",
    "\n",
    "1. Write a Python function to create a new SQLite3 database named `test.db`.\n",
    "2. Write a Python function to create a table named `employees` with columns `id` (integer), `name` (text), `age` (integer), and `department` (text) in the `test.db` database.\n",
    "\n",
    "### Assignment 2: Inserting Data\n",
    "\n",
    "1. Write a Python function to insert a new employee into the `employees` table.\n",
    "2. Insert at least 5 different employees into the `employees` table.\n",
    "\n",
    "### Assignment 3: Querying Data\n",
    "\n",
    "1. Write a Python function to fetch and display all records from the `employees` table.\n",
    "2. Write a Python function to fetch and display all employees from a specific department.\n",
    "\n",
    "### Assignment 4: Updating Data\n",
    "\n",
    "1. Write a Python function to update the department of an employee based on their `id`.\n",
    "2. Update the department of at least 2 employees and display the updated records.\n",
    "\n",
    "### Assignment 5: Deleting Data\n",
    "\n",
    "1. Write a Python function to delete an employee from the `employees` table based on their `id`.\n",
    "2. Delete at least 1 employee and display the remaining records.\n",
    "\n",
    "### Assignment 6: Advanced Queries\n",
    "\n",
    "1. Write a Python function to fetch and display employees older than a certain age.\n",
    "2. Write a Python function to fetch and display employees whose names start with a specific letter.\n",
    "\n",
    "### Assignment 7: Handling Transactions\n",
    "\n",
    "1. Write a Python function to insert multiple employees into the `employees` table in a single transaction. Ensure that if any insertion fails, none of the insertions are committed.\n",
    "2. Write a Python function to update the age of multiple employees in a single transaction. Ensure that if any update fails, none of the updates are committed.\n",
    "\n",
    "### Assignment 8: Creating Relationships\n",
    "\n",
    "1. Create a new table named `departments` with columns `id` (integer) and `name` (text).\n",
    "2. Modify the `employees` table to include a foreign key referencing the `id` column in the `departments` table.\n",
    "3. Write a Python function to insert data into both the `departments` and `employees` tables, ensuring referential integrity.\n",
    "\n",
    "### Assignment 9: Indexing and Optimization\n",
    "\n",
    "1. Create an index on the `name` column of the `employees` table.\n",
    "2. Write a Python function to fetch and display all employees whose names start with a specific letter. Compare the performance with and without the index.\n",
    "\n",
    "### Assignment 10: Backing Up and Restoring Data\n",
    "\n",
    "1. Write a Python function to back up the `test.db` database to a file named `backup.db`.\n",
    "2. Write a Python function to restore the `test.db` database from the `backup.db` file."
   ]
  },
  {
   "cell_type": "markdown",
   "id": "45517733",
   "metadata": {},
   "source": [
    "### Assignment 1: Creating and Connecting to a Database\n",
    "\n",
    "1. Write a Python function to create a new SQLite3 database named `test.db`."
   ]
  },
  {
   "cell_type": "code",
   "execution_count": 1,
   "metadata": {},
   "outputs": [],
   "source": [
    "import sqlite3\n",
    "connection=sqlite3.connect(\"test.db\")"
   ]
  },
  {
   "cell_type": "markdown",
   "id": "e5cc5d60",
   "metadata": {},
   "source": [
    "2. Write a Python function to create a table named `employees` with columns `id` (integer), `name` (text), `age` (integer), and `department` (text) in the `test.db` database."
   ]
  },
  {
   "cell_type": "code",
   "execution_count": null,
   "id": "8f410322",
   "metadata": {},
   "outputs": [],
   "source": [
    "cursor=connection.cursor()\n",
    "cursor.execute(\"create table employees(id integer,name varchar,age integer, department text)\")"
   ]
  },
  {
   "cell_type": "markdown",
   "id": "257a00e1",
   "metadata": {},
   "source": [
    "### Assignment 2: Inserting Data\n",
    "\n",
    "1. Write a Python function to insert a new employee into the `employees` table."
   ]
  },
  {
   "cell_type": "code",
   "execution_count": 13,
   "id": "0c8e7d36",
   "metadata": {},
   "outputs": [],
   "source": [
    "cursor.execute(''' insert into employees(id,name,age,department) \n",
    "               values(1,'John',25,'Sales') ''')\n",
    "connection.commit()"
   ]
  },
  {
   "cell_type": "markdown",
   "id": "3d0035cf",
   "metadata": {},
   "source": [
    "2. Insert at least 5 different employees into the `employees` table."
   ]
  },
  {
   "cell_type": "code",
   "execution_count": 11,
   "id": "d644ba8e",
   "metadata": {},
   "outputs": [],
   "source": [
    "data=[\n",
    "    (2,'Doe',28,'Business'),\n",
    "    (3,'Smith',35,'Science'),\n",
    "    (4,'Johnson',22,'Art'),\n",
    "    (5,'Williams',45,'History'),\n",
    "    (6,'Jones',38,'Math'),\n",
    "]\n",
    "\n",
    "cursor.executemany(''' insert into employees(id,name,age,department) \n",
    "                   values(?,?,?,?) ''', data)\n",
    "connection.commit()\n"
   ]
  },
  {
   "cell_type": "markdown",
   "id": "bd88aa32",
   "metadata": {},
   "source": [
    "### Assignment 3: Querying Data\n",
    "\n",
    "1. Write a Python function to fetch and display all records from the `employees` table."
   ]
  },
  {
   "cell_type": "code",
   "execution_count": 14,
   "id": "93cf6ad2",
   "metadata": {},
   "outputs": [
    {
     "name": "stdout",
     "output_type": "stream",
     "text": [
      "(2, 'Doe', 28, 'Business')\n",
      "(3, 'Smith', 35, 'Science')\n",
      "(4, 'Johnson', 22, 'Art')\n",
      "(5, 'Williams', 45, 'History')\n",
      "(6, 'Jones', 38, 'Math')\n",
      "(1, 'John', 25, 'Sales')\n"
     ]
    }
   ],
   "source": [
    "cursor.execute('select *from employees')\n",
    "for i in cursor:\n",
    "    print(i)"
   ]
  },
  {
   "cell_type": "markdown",
   "id": "4eb014ba",
   "metadata": {},
   "source": [
    "2. Write a Python function to fetch and display all employees from a specific department."
   ]
  },
  {
   "cell_type": "code",
   "execution_count": 20,
   "id": "3d57d18c",
   "metadata": {},
   "outputs": [
    {
     "name": "stdout",
     "output_type": "stream",
     "text": [
      "(3, 'Smith', 35, 'Science')\n"
     ]
    }
   ],
   "source": [
    "cursor.execute(\"select *from employees where department='Science'\")\n",
    "for i in cursor:\n",
    "    print(i)"
   ]
  },
  {
   "cell_type": "markdown",
   "id": "fac69cdf",
   "metadata": {},
   "source": [
    "### Assignment 4: Updating Data\n",
    "\n",
    "Update the department of at least 2 employees and display the updated records."
   ]
  },
  {
   "cell_type": "code",
   "execution_count": 4,
   "id": "6bf847d3",
   "metadata": {},
   "outputs": [],
   "source": [
    "data=[(2,'Commerce'),(5,'PCM')]\n",
    "for id,department in data:\n",
    "    cursor.executemany(''' update employees set department=? where id=?''',data)\n",
    "\n",
    "connection.commit()"
   ]
  },
  {
   "cell_type": "markdown",
   "id": "df844b89",
   "metadata": {},
   "source": [
    "### Assignment 6: Advanced Queries\n",
    "\n",
    "1. Write a Python function to fetch and display employees older than a certain age."
   ]
  },
  {
   "cell_type": "code",
   "execution_count": 5,
   "id": "24ad4f13",
   "metadata": {},
   "outputs": [
    {
     "name": "stdout",
     "output_type": "stream",
     "text": [
      "(5, 'Williams', 45, 'History')\n",
      "(6, 'Jones', 38, 'Math')\n"
     ]
    }
   ],
   "source": [
    "cursor.execute(\"select *from employees where age>35\")\n",
    "for i in cursor:\n",
    "    print(i)"
   ]
  },
  {
   "cell_type": "markdown",
   "id": "23a8d3fb",
   "metadata": {},
   "source": [
    "2. Write a Python function to fetch and display employees whose names start with a specific letter."
   ]
  },
  {
   "cell_type": "code",
   "execution_count": 12,
   "id": "6d918b53",
   "metadata": {},
   "outputs": [
    {
     "name": "stdout",
     "output_type": "stream",
     "text": [
      "(2, 'Doe', 28, 'Business')\n"
     ]
    }
   ],
   "source": [
    "def fetch_employees_name_starts_with(letter):\n",
    "    conn = sqlite3.connect('test.db')\n",
    "    cursor = conn.cursor()\n",
    "    cursor.execute('SELECT * FROM employees WHERE name LIKE ?', (letter + '%',))\n",
    "    records = cursor.fetchall()\n",
    "    conn.close()\n",
    "    for record in records:\n",
    "        print(record)\n",
    "\n",
    "# Test the function\n",
    "fetch_employees_name_starts_with('D')"
   ]
  },
  {
   "cell_type": "markdown",
   "id": "8e773813",
   "metadata": {},
   "source": [
    "### Assignment 7: Handling Transactions\n",
    "\n",
    "1. Write a Python function to insert multiple employees into the `employees` table in a single transaction. Ensure that if any insertion fails, none of the insertions are committed."
   ]
  },
  {
   "cell_type": "code",
   "execution_count": 11,
   "id": "bc63ac8d",
   "metadata": {},
   "outputs": [
    {
     "name": "stdout",
     "output_type": "stream",
     "text": [
      "All employees inserted successfully.\n"
     ]
    }
   ],
   "source": [
    "def insert_multiple_employees(employees):\n",
    "    conn = sqlite3.connect('test.db')\n",
    "    cursor = conn.cursor()\n",
    "    try:\n",
    "        cursor.executemany('''\n",
    "            INSERT INTO employees (id, name, age, department)\n",
    "            VALUES (?, ?, ?, ?)\n",
    "        ''', employees)\n",
    "        conn.commit()\n",
    "        print(\"All employees inserted successfully.\")\n",
    "    except Exception as e:\n",
    "        conn.rollback()\n",
    "        print(\"Error occurred, transaction rolled back.\")\n",
    "        print(e)\n",
    "    finally:\n",
    "        conn.close()\n",
    "\n",
    "# Test the function with valid and invalid data\n",
    "employees = [\n",
    "    (6, 'Frank', 40, 'Finance'),\n",
    "    (7, 'Grace', 29, 'Engineering'),\n",
    "    (8, 'Hannah', 35, 'Marketing'),\n",
    "    (9, 'Ivan', 38, 'Sales'),\n",
    "    (6, 'Jack', 45, 'HR')  # Duplicate ID to cause an error\n",
    "]\n",
    "insert_multiple_employees(employees)"
   ]
  },
  {
   "cell_type": "markdown",
   "id": "3428f93d",
   "metadata": {},
   "source": [
    "2. Write a Python function to update the age of multiple employees in a single transaction. Ensure that if any update fails, none of the updates are committed."
   ]
  },
  {
   "cell_type": "code",
   "execution_count": 17,
   "id": "61a14010",
   "metadata": {},
   "outputs": [
    {
     "name": "stdout",
     "output_type": "stream",
     "text": [
      "All employee ages updated successfully.\n"
     ]
    }
   ],
   "source": [
    "def update_multiple_employees_ages(updates):\n",
    "    conn = sqlite3.connect('test.db')\n",
    "    cursor = conn.cursor()\n",
    "    try:\n",
    "        cursor.executemany('''\n",
    "            UPDATE employees\n",
    "            SET age = ?\n",
    "            WHERE id = ?\n",
    "        ''', updates)\n",
    "        conn.commit()\n",
    "        print(\"All employee ages updated successfully.\")\n",
    "    except Exception as e:\n",
    "        conn.rollback()\n",
    "        print(\"Error occurred, transaction rolled back.\")\n",
    "        print(e)\n",
    "    finally:\n",
    "        conn.close()\n",
    "\n",
    "# Test the function with valid and invalid data\n",
    "updates = [\n",
    "    (32, 1),\n",
    "    (26, 2),\n",
    "    (33, 3),\n",
    "    (41, 4), \n",
    "    (23, 5)\n",
    "]\n",
    "update_multiple_employees_ages(updates)"
   ]
  },
  {
   "cell_type": "markdown",
   "id": "6534c22a",
   "metadata": {},
   "source": [
    "### Assignment 8: Creating Relationships\n",
    "\n",
    "1. Create a new table named `departments` with columns `id` (integer) and `name` (text)."
   ]
  },
  {
   "cell_type": "code",
   "execution_count": 18,
   "id": "892d01c5",
   "metadata": {},
   "outputs": [
    {
     "name": "stdout",
     "output_type": "stream",
     "text": [
      "Table 'departments' created successfully.\n"
     ]
    }
   ],
   "source": [
    "def create_departments_table():\n",
    "    conn = sqlite3.connect('test.db')\n",
    "    cursor = conn.cursor()\n",
    "    cursor.execute(''' CREATE TABLE IF NOT EXISTS departments (\n",
    "            id INTEGER PRIMARY KEY,\n",
    "            name TEXT NOT NULL\n",
    "        )''')\n",
    "    print(\"Table 'departments' created successfully.\")\n",
    "    conn.close()\n",
    "\n",
    "# Test the function\n",
    "create_departments_table()"
   ]
  },
  {
   "cell_type": "markdown",
   "id": "5851a98b",
   "metadata": {},
   "source": [
    "2. Modify the `employees` table to include a foreign key referencing the `id` column in the `departments` table."
   ]
  },
  {
   "cell_type": "code",
   "execution_count": null,
   "id": "3ef3461f",
   "metadata": {},
   "outputs": [],
   "source": [
    "def add_department_foreign_key():\n",
    "    conn = sqlite3.connect('test.db')\n",
    "    cursor = conn.cursor()\n",
    "    cursor.executescript('''\n",
    "        ALTER TABLE employees RENAME TO old_employees;\n",
    "        CREATE TABLE employees (\n",
    "            id INTEGER PRIMARY KEY,\n",
    "            name TEXT NOT NULL,\n",
    "            age INTEGER,\n",
    "            department TEXT,\n",
    "            department_id INTEGER,\n",
    "            FOREIGN KEY(department_id) REFERENCES departments(id)\n",
    "        );\n",
    "        INSERT INTO employees (id, name, age, department)\n",
    "        SELECT id, name, age, department FROM old_employees;\n",
    "        DROP TABLE old_employees;\n",
    "    ''')\n",
    "    conn.commit()\n",
    "    conn.close()\n",
    "    print(\"Table 'employees' modified successfully.\")\n",
    "\n",
    "# Test the function\n",
    "add_department_foreign_key()"
   ]
  },
  {
   "cell_type": "markdown",
   "id": "6ad141cb",
   "metadata": {},
   "source": [
    "3. Write a Python function to insert data into both the `departments` and `employees` tables, ensuring referential integrity."
   ]
  },
  {
   "cell_type": "code",
   "execution_count": 25,
   "id": "69eced9b",
   "metadata": {},
   "outputs": [
    {
     "name": "stdout",
     "output_type": "stream",
     "text": [
      "Department and employee inserted successfully.\n"
     ]
    }
   ],
   "source": [
    "def insert_department_and_employee(department_id, department_name, employee_id, name, age, department):\n",
    "    conn = sqlite3.connect('test.db')\n",
    "    cursor = conn.cursor()\n",
    "    try:\n",
    "        cursor.execute('''\n",
    "            INSERT INTO departments (id, name)\n",
    "            VALUES (?, ?)\n",
    "        ''', (department_id, department_name))\n",
    "        cursor.execute('''\n",
    "            INSERT INTO employees (id, name, age, department, department_id)\n",
    "            VALUES (?, ?, ?, ?, ?)\n",
    "        ''', (employee_id, name, age, department, department_id))\n",
    "        conn.commit()\n",
    "        print(\"Department and employee inserted successfully.\")\n",
    "    except Exception as e:\n",
    "        conn.rollback()\n",
    "        print(\"Error occurred, transaction rolled back.\")\n",
    "        print(e)\n",
    "    finally:\n",
    "        conn.close()\n",
    "\n",
    "# Test the function\n",
    "insert_department_and_employee(1, 'Finance', 10, 'Zara', 28, 'Finance')"
   ]
  },
  {
   "cell_type": "markdown",
   "id": "576e2134",
   "metadata": {},
   "source": [
    "### Assignment 9: Indexing and Optimization\n",
    "\n",
    "1. Create an index on the `name` column of the `employees` table."
   ]
  },
  {
   "cell_type": "code",
   "execution_count": 26,
   "id": "f0771b0c",
   "metadata": {},
   "outputs": [
    {
     "name": "stdout",
     "output_type": "stream",
     "text": [
      "Index on 'name' column created successfully.\n"
     ]
    }
   ],
   "source": [
    "def create_index_on_name():\n",
    "    conn = sqlite3.connect('test.db')\n",
    "    cursor = conn.cursor()\n",
    "    cursor.execute('CREATE INDEX idx_name ON employees(name)')\n",
    "    conn.commit()\n",
    "    conn.close()\n",
    "    print(\"Index on 'name' column created successfully.\")\n",
    "\n",
    "# Test the function\n",
    "create_index_on_name()"
   ]
  },
  {
   "cell_type": "markdown",
   "id": "b7f129a4",
   "metadata": {},
   "source": [
    "2. Write a Python function to fetch and display all employees whose names start with a specific letter. Compare the performance with and without the index."
   ]
  },
  {
   "cell_type": "code",
   "execution_count": 27,
   "id": "596f14a7",
   "metadata": {},
   "outputs": [
    {
     "name": "stdout",
     "output_type": "stream",
     "text": [
      "Time taken: 0.0004620552062988281 seconds\n"
     ]
    }
   ],
   "source": [
    "import time\n",
    "\n",
    "def fetch_employees_name_starts_with_performance(letter):\n",
    "    conn = sqlite3.connect('test.db')\n",
    "    cursor = conn.cursor()\n",
    "    start_time = time.time()\n",
    "    cursor.execute('SELECT * FROM employees WHERE name LIKE ?', (letter + '%',))\n",
    "    records = cursor.fetchall()\n",
    "    end_time = time.time()\n",
    "    conn.close()\n",
    "    print(\"Time taken: {} seconds\".format(end_time - start_time))\n",
    "    for record in records:\n",
    "        print(record)\n",
    "\n",
    "# Test the function with the index\n",
    "fetch_employees_name_starts_with_performance('A')"
   ]
  },
  {
   "cell_type": "markdown",
   "id": "eac77795",
   "metadata": {},
   "source": [
    "### Assignment 10: Backing Up and Restoring Data\n",
    "\n",
    "1. Write a Python function to back up the `test.db` database to a file named `backup.db`."
   ]
  },
  {
   "cell_type": "code",
   "execution_count": 28,
   "id": "dcda7243",
   "metadata": {},
   "outputs": [
    {
     "name": "stdout",
     "output_type": "stream",
     "text": [
      "Database backed up successfully.\n"
     ]
    }
   ],
   "source": [
    "import shutil\n",
    "\n",
    "def backup_database():\n",
    "    shutil.copy('test.db', 'backup.db')\n",
    "    print(\"Database backed up successfully.\")\n",
    "\n",
    "# Test the function\n",
    "backup_database()"
   ]
  },
  {
   "cell_type": "markdown",
   "id": "77a41599",
   "metadata": {},
   "source": [
    "2. Write a Python function to restore the `test.db` database from the `backup.db` file."
   ]
  },
  {
   "cell_type": "code",
   "execution_count": 29,
   "id": "77d2ce74",
   "metadata": {},
   "outputs": [
    {
     "name": "stdout",
     "output_type": "stream",
     "text": [
      "Database restored successfully.\n"
     ]
    }
   ],
   "source": [
    "def restore_database():\n",
    "    shutil.copy('backup.db', 'test.db')\n",
    "    print(\"Database restored successfully.\")\n",
    "\n",
    "# Test the function\n",
    "restore_database()"
   ]
  }
 ],
 "metadata": {
  "kernelspec": {
   "display_name": "Python 3",
   "language": "python",
   "name": "python3"
  },
  "language_info": {
   "codemirror_mode": {
    "name": "ipython",
    "version": 3
   },
   "file_extension": ".py",
   "mimetype": "text/x-python",
   "name": "python",
   "nbconvert_exporter": "python",
   "pygments_lexer": "ipython3",
   "version": "3.13.2"
  }
 },
 "nbformat": 4,
 "nbformat_minor": 5
}
