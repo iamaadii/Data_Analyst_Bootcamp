{
 "cells": [
  {
   "cell_type": "markdown",
   "id": "9a45483b",
   "metadata": {},
   "source": [
    "SQL And SQLite\n",
    "\n",
    "SQL (Structured Query Language) is a standard language for managing and manipulating relational databases. SQLite is a self-contained, serverless, and zero-configuration database engine that is widely used for embedded database systems. In this lesson, we will cover the basics of SQL and SQLite, including creating databases, tables, and performing various SQL operations."
   ]
  },
  {
   "cell_type": "code",
   "execution_count": null,
   "id": "af522fc2",
   "metadata": {},
   "outputs": [
    {
     "name": "stdout",
     "output_type": "stream",
     "text": [
      "<sqlite3.Connection object at 0x0000013CA27ED4E0>\n"
     ]
    }
   ],
   "source": [
    "import sqlite3\n",
    "\n",
    "# to make connection\n",
    "connection=sqlite3.connect('example.db')\n",
    "print(connection)"
   ]
  },
  {
   "cell_type": "code",
   "execution_count": 4,
   "id": "34d8c55e",
   "metadata": {},
   "outputs": [],
   "source": [
    "cursor=connection.cursor()"
   ]
  },
  {
   "cell_type": "code",
   "execution_count": null,
   "id": "b2719f6f",
   "metadata": {},
   "outputs": [],
   "source": [
    "#create a table\n",
    "cursor.execute('''create table student(name varchar, rollno integer)''')"
   ]
  },
  {
   "cell_type": "code",
   "execution_count": null,
   "id": "3279875a",
   "metadata": {},
   "outputs": [],
   "source": [
    "#insert data in the table\n",
    "cursor.execute(\"insert into student(name,rollno) values('Aditya',34)\")\n",
    "cursor.execute(\"insert into student(name,rollno) values('Aman',24)\")\n",
    "connection.commit() #cursor.execute(\"commit\")"
   ]
  },
  {
   "cell_type": "code",
   "execution_count": 15,
   "id": "70980d74",
   "metadata": {},
   "outputs": [
    {
     "name": "stdout",
     "output_type": "stream",
     "text": [
      "('Aditya', 32)\n",
      "('Aman', 24)\n",
      "('Aditya', 32)\n"
     ]
    }
   ],
   "source": [
    "#reading data from the table    \n",
    "cursor.execute('select *from student')\n",
    "data=cursor.fetchall()\n",
    "for i in data:\n",
    "    print(i)\n",
    "    \n",
    "cursor.execute('select *from student')\n",
    "data=cursor.fetchone()\n",
    "print(data)"
   ]
  },
  {
   "cell_type": "code",
   "execution_count": 16,
   "id": "d41e45b3",
   "metadata": {},
   "outputs": [
    {
     "data": {
      "text/plain": [
       "<sqlite3.Cursor at 0x13ca23df4c0>"
      ]
     },
     "execution_count": 16,
     "metadata": {},
     "output_type": "execute_result"
    }
   ],
   "source": [
    "#update data in the table\n",
    "cursor.execute(\"UPDATE student set rollno=28 where name='Aditya'\")\n",
    "cursor.execute('commit')"
   ]
  },
  {
   "cell_type": "code",
   "execution_count": 17,
   "id": "c19563b9",
   "metadata": {},
   "outputs": [
    {
     "name": "stdout",
     "output_type": "stream",
     "text": [
      "('Aditya', 28)\n",
      "('Aman', 24)\n"
     ]
    }
   ],
   "source": [
    "data=cursor.execute('select *from student')\n",
    "for i in data:\n",
    "    print(i)"
   ]
  },
  {
   "cell_type": "code",
   "execution_count": 18,
   "id": "2847d813",
   "metadata": {},
   "outputs": [
    {
     "data": {
      "text/plain": [
       "<sqlite3.Cursor at 0x13ca23df4c0>"
      ]
     },
     "execution_count": 18,
     "metadata": {},
     "output_type": "execute_result"
    }
   ],
   "source": [
    "#delete data from the table\n",
    "cursor.execute(\"delete from student where name='Aman'\")\n",
    "cursor.execute('commit')"
   ]
  },
  {
   "cell_type": "code",
   "execution_count": 19,
   "id": "13c0ee91",
   "metadata": {},
   "outputs": [
    {
     "name": "stdout",
     "output_type": "stream",
     "text": [
      "('Aditya', 28)\n"
     ]
    }
   ],
   "source": [
    "data=cursor.execute('select *from student')\n",
    "for i in data:\n",
    "    print(i)"
   ]
  },
  {
   "cell_type": "code",
   "execution_count": 24,
   "id": "13b34b5f",
   "metadata": {},
   "outputs": [
    {
     "data": {
      "text/plain": [
       "<sqlite3.Cursor at 0x13ca23df4c0>"
      ]
     },
     "execution_count": 24,
     "metadata": {},
     "output_type": "execute_result"
    }
   ],
   "source": [
    "#insert many data in the table\n",
    "data=[\n",
    "    ('Ajay',29),\n",
    "    ('Ankit',30),\n",
    "    ('Varad',31),\n",
    "    ('Yash',32)\n",
    "]\n",
    "\n",
    "cursor.executemany(\"insert into student(name,rollno) values(?,?)\",data)\n",
    "cursor.execute('commit')"
   ]
  },
  {
   "cell_type": "code",
   "execution_count": 25,
   "id": "cf6a1a97",
   "metadata": {},
   "outputs": [
    {
     "name": "stdout",
     "output_type": "stream",
     "text": [
      "('Aditya', 28)\n",
      "('Ajay', 29)\n",
      "('Ankit', 30)\n",
      "('Varad', 31)\n",
      "('Yash', 32)\n"
     ]
    }
   ],
   "source": [
    "cursor.execute('select *from student')\n",
    "for i in cursor:\n",
    "    print(i)"
   ]
  },
  {
   "cell_type": "code",
   "execution_count": 26,
   "id": "66c56bb7",
   "metadata": {},
   "outputs": [],
   "source": [
    "connection.close()"
   ]
  }
 ],
 "metadata": {
  "kernelspec": {
   "display_name": "Python 3",
   "language": "python",
   "name": "python3"
  },
  "language_info": {
   "codemirror_mode": {
    "name": "ipython",
    "version": 3
   },
   "file_extension": ".py",
   "mimetype": "text/x-python",
   "name": "python",
   "nbconvert_exporter": "python",
   "pygments_lexer": "ipython3",
   "version": "3.13.2"
  }
 },
 "nbformat": 4,
 "nbformat_minor": 5
}
