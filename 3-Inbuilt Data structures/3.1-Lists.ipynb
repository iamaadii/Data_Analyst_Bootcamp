{
 "cells": [
  {
   "cell_type": "markdown",
   "metadata": {},
   "source": [
    "**Introduction To Lists**\n",
    "- Lists are ordered, mutable collections of items.\n",
    "- They can contain items of different data types inside square bracket."
   ]
  },
  {
   "cell_type": "code",
   "execution_count": 1,
   "metadata": {},
   "outputs": [
    {
     "name": "stdout",
     "output_type": "stream",
     "text": [
      "[]\n",
      "<class 'list'>\n"
     ]
    }
   ],
   "source": [
    "l = list()\n",
    "print(l)\n",
    "print(type(l))"
   ]
  },
  {
   "cell_type": "markdown",
   "metadata": {},
   "source": [
    "**Accessing element through indexing both +ve and -ve**"
   ]
  },
  {
   "cell_type": "code",
   "execution_count": 2,
   "metadata": {},
   "outputs": [
    {
     "name": "stdout",
     "output_type": "stream",
     "text": [
      "apple\n",
      "cherry\n",
      "gauva\n",
      "gauva\n"
     ]
    }
   ],
   "source": [
    "fruits=[\"apple\",\"banana\",\"cherry\",\"kiwi\",\"gauva\"]\n",
    "print(fruits[0])\n",
    "print(fruits[2])\n",
    "print(fruits[4])\n",
    "print(fruits[-1]) # -1 + 5 = 4(index)"
   ]
  },
  {
   "cell_type": "markdown",
   "metadata": {},
   "source": [
    "**Accessing through index slicing**"
   ]
  },
  {
   "cell_type": "code",
   "execution_count": null,
   "metadata": {},
   "outputs": [
    {
     "name": "stdout",
     "output_type": "stream",
     "text": [
      "['banana', 'cherry', 'kiwi', 'gauva']\n",
      "['apple', 'banana']\n",
      "['banana', 'cherry']\n",
      "['apple', 'cherry', 'gauva']\n",
      "['gauva', 'kiwi', 'cherry', 'banana', 'apple']\n"
     ]
    }
   ],
   "source": [
    "print(fruits[1:]) #from index 1 till last index\n",
    "print(fruits[:2]) #from index 0 till index 1\n",
    "print(fruits[1:3]) # from index 1 to index 2\n",
    "print(fruits[0:5:2]) # from index 0 to last index by skipping 2 elements\n",
    "print(fruits[::-1]) # from index 0 to last index by skipping -1(reversing of a list)"
   ]
  },
  {
   "cell_type": "markdown",
   "metadata": {},
   "source": [
    "**Iterating over list**"
   ]
  },
  {
   "cell_type": "code",
   "execution_count": null,
   "metadata": {},
   "outputs": [
    {
     "name": "stdout",
     "output_type": "stream",
     "text": [
      "1 2 3 4 "
     ]
    }
   ],
   "source": [
    "num=[1,2,3,4]\n",
    "for i in num:\n",
    "    print(i,end=' ')"
   ]
  },
  {
   "cell_type": "markdown",
   "metadata": {},
   "source": [
    "**Iterating with index**"
   ]
  },
  {
   "cell_type": "code",
   "execution_count": 29,
   "metadata": {},
   "outputs": [
    {
     "name": "stdout",
     "output_type": "stream",
     "text": [
      "Index: 0 Element: shirt\n",
      "Index: 1 Element: pants\n",
      "Index: 2 Element: Trousers\n"
     ]
    }
   ],
   "source": [
    "cloth=['shirt','pants','Trousers']\n",
    "for index,element in enumerate(cloth):\n",
    "    print(f\"Index: {index} Element: {element}\")"
   ]
  },
  {
   "cell_type": "markdown",
   "metadata": {},
   "source": [
    "**Modifying list elements**"
   ]
  },
  {
   "cell_type": "code",
   "execution_count": 8,
   "metadata": {},
   "outputs": [
    {
     "name": "stdout",
     "output_type": "stream",
     "text": [
      "['Aditya', 18]\n",
      "['Aditya', 'A', 'j', 'a', 'y']\n"
     ]
    }
   ],
   "source": [
    "name = ['Aditya','Aman']\n",
    "name[1]=18\n",
    "print(name)\n",
    "name[1:]='Ajay'\n",
    "print(name)"
   ]
  },
  {
   "cell_type": "markdown",
   "metadata": {},
   "source": [
    "**List Methods**"
   ]
  },
  {
   "cell_type": "code",
   "execution_count": 26,
   "metadata": {},
   "outputs": [
    {
     "name": "stdout",
     "output_type": "stream",
     "text": [
      "['Red', 'yellow', 'green']\n",
      "['Red', 'blue', 'yellow', 'green']\n",
      "['Red', 'blue', 'yellow']\n",
      "['Red', 'blue']\n",
      "0\n",
      "1\n",
      "['Red', 'blue']\n",
      "['Red', 'blue']\n",
      "['blue', 'Red']\n",
      "['blue', 'Red', 'renrf', 1, 645]\n",
      "[]\n"
     ]
    }
   ],
   "source": [
    "colors = ['Red','yellow']\n",
    "colors.append('green')  #to add item at the end of list\n",
    "print(colors)\n",
    "colors.insert(1,'blue') #for adding at specific index\n",
    "print(colors)\n",
    "colors.remove('green') #removing first occurence of an item\n",
    "print(colors)\n",
    "colors.pop() #for removing item from last\n",
    "print(colors)\n",
    "print(colors.index('Red')) #for getting index of item\n",
    "print(colors.count('blue'))  #for counting total occurence of an item\n",
    "copied = colors.copy() # to copy a list item into another variable\n",
    "print(copied)\n",
    "colors.sort() #for sorting list in ascending order based on number of character for a string if equal then it will sort based on alphabet \n",
    "print(colors)\n",
    "colors.reverse() \n",
    "print(colors)\n",
    "colors.extend(['renrf',1,645]) # for adding another list inside the list\n",
    "print(colors)\n",
    "colors.clear() #to remove all elemnts from list\n",
    "print(colors)"
   ]
  },
  {
   "cell_type": "markdown",
   "metadata": {},
   "source": [
    "**List comprehension**\n",
    "- Basics Syantax             [expression for item in iterable]\n",
    "- with conditional logic     [expression for item in iterable if condition]\n",
    "- Nested List Comprehension  [expression for item1 in iterable1 for item2 in iterable2]"
   ]
  },
  {
   "cell_type": "code",
   "execution_count": 42,
   "metadata": {},
   "outputs": [
    {
     "name": "stdout",
     "output_type": "stream",
     "text": [
      "[1, 4, 9, 16, 25, 36, 49, 64, 81]\n",
      "[0, 2, 4, 6, 8, 10]\n",
      "[[1, 'a'], [1, 'b'], [2, 'a'], [2, 'b']]\n",
      "[5, 6]\n"
     ]
    }
   ],
   "source": [
    "#basic syntax\n",
    "square = [i*i for i in range(1,10)]\n",
    "print(square)\n",
    "\n",
    "#with conditional\n",
    "even_no = [i for i in range(11) if i%2==0]\n",
    "print(even_no)\n",
    "\n",
    "#nested list comprehesion\n",
    "l1=[1,2]\n",
    "l2 =['a','b']\n",
    "new_list = [[i,j] for i in l1 for j in l2]\n",
    "print(new_list)\n",
    "\n",
    "#list comprehension with function calls\n",
    "word = ['hello','Aditya']\n",
    "lengths = [len(i) for i in word]\n",
    "print(lengths)"
   ]
  }
 ],
 "metadata": {
  "kernelspec": {
   "display_name": "Python 3",
   "language": "python",
   "name": "python3"
  },
  "language_info": {
   "codemirror_mode": {
    "name": "ipython",
    "version": 3
   },
   "file_extension": ".py",
   "mimetype": "text/x-python",
   "name": "python",
   "nbconvert_exporter": "python",
   "pygments_lexer": "ipython3",
   "version": "3.13.2"
  }
 },
 "nbformat": 4,
 "nbformat_minor": 2
}
