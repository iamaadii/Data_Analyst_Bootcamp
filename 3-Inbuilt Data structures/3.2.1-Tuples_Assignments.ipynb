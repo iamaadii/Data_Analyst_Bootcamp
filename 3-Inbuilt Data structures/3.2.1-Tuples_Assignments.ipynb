{
 "cells": [
  {
   "cell_type": "code",
   "execution_count": 3,
   "metadata": {},
   "outputs": [
    {
     "name": "stdout",
     "output_type": "stream",
     "text": [
      "(1, 2, 3, 4, 5, 6)\n"
     ]
    }
   ],
   "source": [
    "#Concatenate two tuples: (1, 2, 3) and (4, 5, 6). Print the resulting tuple.\n",
    "t1=(1,2,3);t2=(4,5,6)\n",
    "print(t1+t2)"
   ]
  },
  {
   "cell_type": "code",
   "execution_count": 1,
   "metadata": {},
   "outputs": [
    {
     "name": "stdout",
     "output_type": "stream",
     "text": [
      "(1, 2, 3, 4, 5, 6, 7, 8, 9, 10)\n",
      "(1, 2, 3, 4, 5, 6, 7, 8, 9, 10)\n"
     ]
    }
   ],
   "source": [
    "#Create a tuple with the first 10 positive integers. Print the tuple.\n",
    "tpl = tuple(range(1, 11))\n",
    "print(tpl)\n",
    "\n",
    "t=(i for i in range(1,11))\n",
    "print(tuple(t))"
   ]
  },
  {
   "cell_type": "code",
   "execution_count": 2,
   "metadata": {},
   "outputs": [
    {
     "name": "stdout",
     "output_type": "stream",
     "text": [
      "('h', 'e', 'l', 'l', 'o')\n",
      "hello\n",
      "aditya\n"
     ]
    }
   ],
   "source": [
    "#Create a tuple with the characters of a string. Join the tuple elements into a single string. \n",
    "# Print the string.\n",
    "\n",
    "string = \"hello\"\n",
    "tpl = tuple(string)\n",
    "print(tpl)\n",
    "joined_string=''.join(tpl)\n",
    "print(joined_string)\n",
    "\n",
    "t=('a','d','i','t','y','a')\n",
    "str=''\n",
    "for i in t:\n",
    "    str=str+i\n",
    "print(str)"
   ]
  },
  {
   "cell_type": "code",
   "execution_count": 3,
   "metadata": {},
   "outputs": [
    {
     "name": "stdout",
     "output_type": "stream",
     "text": [
      "(1, 2, 3, 4, 5, 6)\n"
     ]
    }
   ],
   "source": [
    "#Create a tuple with duplicate elements. Convert it to a set to remove duplicates and print the \n",
    "# resulting set.\n",
    "t=(1,2,3,4,5,6,5,2,3)\n",
    "s=set(t)\n",
    "print(tuple(s))"
   ]
  },
  {
   "cell_type": "code",
   "execution_count": 2,
   "metadata": {},
   "outputs": [
    {
     "name": "stdout",
     "output_type": "stream",
     "text": [
      "5 1 15\n"
     ]
    }
   ],
   "source": [
    "# Write functions that take a tuple and return the minimum, maximum, and sum of the elements.\n",
    "# Print the results for a sample tuple.\n",
    "\n",
    "def fun(t):\n",
    "    return min(t),max(t),sum(t)\n",
    "\n",
    "tuple=(1,2,3,4,5)\n",
    "minimum,maximum,addition=fun(tuple)\n",
    "print(maximum,minimum,addition)"
   ]
  }
 ],
 "metadata": {
  "kernelspec": {
   "display_name": "Python 3",
   "language": "python",
   "name": "python3"
  },
  "language_info": {
   "codemirror_mode": {
    "name": "ipython",
    "version": 3
   },
   "file_extension": ".py",
   "mimetype": "text/x-python",
   "name": "python",
   "nbconvert_exporter": "python",
   "pygments_lexer": "ipython3",
   "version": "3.13.2"
  }
 },
 "nbformat": 4,
 "nbformat_minor": 2
}
