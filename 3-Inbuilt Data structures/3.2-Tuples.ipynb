{
 "cells": [
  {
   "cell_type": "markdown",
   "metadata": {},
   "source": [
    "**Introduction To Tuples**\n",
    "- Tuples are ordered, immutable collections of items.\n",
    "- They can contain items of different data types inside a round bracket."
   ]
  },
  {
   "cell_type": "code",
   "execution_count": 58,
   "metadata": {},
   "outputs": [
    {
     "name": "stdout",
     "output_type": "stream",
     "text": [
      "()\n",
      "<class 'tuple'>\n"
     ]
    }
   ],
   "source": [
    "t=tuple()\n",
    "print(t)\n",
    "print(type(t))"
   ]
  },
  {
   "cell_type": "code",
   "execution_count": 2,
   "metadata": {},
   "outputs": [
    {
     "name": "stdout",
     "output_type": "stream",
     "text": [
      "(1, 2, 3, 4)\n",
      "[9, 3, 7]\n"
     ]
    }
   ],
   "source": [
    "# list to tuple conversion\n",
    "t1=tuple([1,2,3,4])\n",
    "print(t1)  \n",
    "\n",
    "#tuple to list conversion\n",
    "t2=list((9,3,7))\n",
    "print(t2)"
   ]
  },
  {
   "cell_type": "code",
   "execution_count": 60,
   "metadata": {},
   "outputs": [
    {
     "name": "stdout",
     "output_type": "stream",
     "text": [
      "aditya\n",
      "ajay\n",
      "('aman', 'yash', 'ajay')\n"
     ]
    }
   ],
   "source": [
    "# Accessing tuple elements\n",
    "name = ('aditya','aman','yash','ajay')\n",
    "print(name[0])  \n",
    "print(name[-1])\n",
    "print(name[1:4])"
   ]
  },
  {
   "cell_type": "code",
   "execution_count": 63,
   "metadata": {},
   "outputs": [
    {
     "name": "stdout",
     "output_type": "stream",
     "text": [
      "(1, 2, 3, 4, 5, 6)\n",
      "(1, 2, 3, 1, 2, 3)\n",
      "1\n",
      "2\n"
     ]
    }
   ],
   "source": [
    "#tuple methods\n",
    "a=(1,2,3)\n",
    "b=(4,5,6)\n",
    "print(a+b) #concatenation\n",
    "print(a*2)\n",
    "print(a.count(1)) #Return number of occurrences of value.\n",
    "print(a.index(3)) #Return first index of value."
   ]
  },
  {
   "cell_type": "code",
   "execution_count": 64,
   "metadata": {},
   "outputs": [
    {
     "name": "stdout",
     "output_type": "stream",
     "text": [
      "('aditya', 18)\n",
      "aditya\n",
      "18\n",
      "1\n",
      "[2, 3, 4, 5]\n",
      "6\n"
     ]
    }
   ],
   "source": [
    "#packing tuples\n",
    "packed_tup = 'aditya',18\n",
    "print(packed_tup)\n",
    "\n",
    "#unpacking tuples\n",
    "name, age = packed_tup\n",
    "print(name)\n",
    "print(age)\n",
    "\n",
    "#unpacking with *\n",
    "first,*middle,last=(1,2,3,4,5,6)\n",
    "print(first)\n",
    "print(middle)\n",
    "print(last)"
   ]
  },
  {
   "cell_type": "code",
   "execution_count": 65,
   "metadata": {},
   "outputs": [
    {
     "name": "stdout",
     "output_type": "stream",
     "text": [
      "[4, 5, 6, 7]\n",
      "6\n",
      "[4, 5]\n",
      "1 2 3 4 5 6 7 "
     ]
    }
   ],
   "source": [
    "# nested list\n",
    "nested_list = [[1,2,3], [4,5,6,7]]\n",
    "print(nested_list[1])\n",
    "print(nested_list[1][2])\n",
    "print(nested_list[1][0:2])\n",
    "\n",
    "for sub_list in nested_list:\n",
    "    for item in sub_list:\n",
    "        print(item, end=' ')"
   ]
  },
  {
   "cell_type": "code",
   "execution_count": 54,
   "metadata": {},
   "outputs": [
    {
     "name": "stdout",
     "output_type": "stream",
     "text": [
      "('Aditya', 'Aman', 'Ajay')\n",
      "varad\n",
      "('Ankit', 'yash', 'varad')\n",
      "Aditya Aman Ajay Ankit yash varad anamika "
     ]
    }
   ],
   "source": [
    "# nested tuples\n",
    "nested_tuple = (('Aditya','Aman','Ajay'), ('Ankit','yash','varad','anamika'))\n",
    "print(nested_tuple[0])\n",
    "print(nested_tuple[1][2])\n",
    "print(nested_tuple[1][:3])\n",
    "\n",
    "for sub_tuple in nested_tuple:\n",
    "    for item in sub_tuple:\n",
    "        print(item, end=' ')"
   ]
  },
  {
   "cell_type": "code",
   "execution_count": 57,
   "metadata": {},
   "outputs": [
    {
     "name": "stdout",
     "output_type": "stream",
     "text": [
      "[1, 2, 3]\n",
      "(4, 5, 6)\n",
      "1 2 3 4 5 6 7 "
     ]
    }
   ],
   "source": [
    "#nested list with tuples\n",
    "nested_list_with_tuples = [[1,2,3], (4,5,6,7)]\n",
    "print(nested_list_with_tuples[0])\n",
    "print(nested_list_with_tuples[1][:3])\n",
    "\n",
    "for i in nested_list_with_tuples:\n",
    "    for item in i:\n",
    "        print(item, end=' ')"
   ]
  }
 ],
 "metadata": {
  "kernelspec": {
   "display_name": "Python 3",
   "language": "python",
   "name": "python3"
  },
  "language_info": {
   "codemirror_mode": {
    "name": "ipython",
    "version": 3
   },
   "file_extension": ".py",
   "mimetype": "text/x-python",
   "name": "python",
   "nbconvert_exporter": "python",
   "pygments_lexer": "ipython3",
   "version": "3.13.2"
  }
 },
 "nbformat": 4,
 "nbformat_minor": 2
}
