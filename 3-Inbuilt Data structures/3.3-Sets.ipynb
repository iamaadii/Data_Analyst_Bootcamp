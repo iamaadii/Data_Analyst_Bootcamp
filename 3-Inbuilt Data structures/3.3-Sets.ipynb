{
 "cells": [
  {
   "cell_type": "markdown",
   "metadata": {},
   "source": [
    "**Sets**\n",
    "- Sets are a built-in data type in Python used to store collections of unique items.\n",
    "- They are unordered, meaning that the elements do not follow a specific order. \n",
    "- They do not allow duplicate elements. \n",
    "- Sets are useful for membership tests, eliminating duplicate entries, and performing mathematical set operations like union, intersection, difference, and symmetric difference."
   ]
  },
  {
   "cell_type": "code",
   "execution_count": 6,
   "metadata": {},
   "outputs": [
    {
     "name": "stdout",
     "output_type": "stream",
     "text": [
      "set()\n",
      "{1, 2, 3}\n",
      "<class 'set'>\n"
     ]
    }
   ],
   "source": [
    "s=set()\n",
    "s1=set({1,2,3})\n",
    "print(s)\n",
    "print(s1)\n",
    "print(type(s))"
   ]
  },
  {
   "cell_type": "markdown",
   "metadata": {},
   "source": [
    "**Set operations**"
   ]
  },
  {
   "cell_type": "code",
   "execution_count": 3,
   "metadata": {},
   "outputs": [
    {
     "name": "stdout",
     "output_type": "stream",
     "text": [
      "{1, 2, 3, 4, 5}\n",
      "{1, 2, 3, 5}\n",
      "{1, 2, 3, 5}\n",
      "{2, 3, 5}\n",
      "set()\n"
     ]
    }
   ],
   "source": [
    "s={1,2,3,4} \n",
    "s.add(5) # Add an element to a set.\n",
    "print(s)\n",
    "s.remove(4) # Remove an element from a set. If the element is not a present, raise a KeyError\n",
    "print(s)\n",
    "s.discard(10) # Remove an element from a set. does not raise an exception when an element is missing from the set.\n",
    "print(s)\n",
    "s.pop() # removes random element from the set\n",
    "print(s)\n",
    "s.clear() #for removing all elements from the set\n",
    "print(s)"
   ]
  },
  {
   "cell_type": "code",
   "execution_count": 8,
   "metadata": {},
   "outputs": [
    {
     "name": "stdout",
     "output_type": "stream",
     "text": [
      "True\n",
      "False\n"
     ]
    }
   ],
   "source": [
    "# set membership test\n",
    "my_set = {1,2,4,5}\n",
    "print(1 in my_set)  \n",
    "print(9 in my_set)"
   ]
  },
  {
   "cell_type": "markdown",
   "metadata": {},
   "source": [
    "**Mathematical operations**"
   ]
  },
  {
   "cell_type": "code",
   "execution_count": 9,
   "metadata": {},
   "outputs": [
    {
     "name": "stdout",
     "output_type": "stream",
     "text": [
      "{1, 2, 3, 4, 5, 8}\n",
      "{2, 4}\n",
      "{1, 3}\n",
      "{1, 3, 5, 8}\n"
     ]
    }
   ],
   "source": [
    "s1={1,2,3,4}\n",
    "s2={2,4,8,5}\n",
    "print(s1.union(s2)) #Return a new set by combining elements of both sets(without duplication).\n",
    "print(s1.intersection(s2)) #Return a new set with elements common in both the set\n",
    "print(s1.difference(s2)) #Return a new set with elements in the set that are not in the others\n",
    "print(s1.symmetric_difference(s2)) #Return a new set with elements which are not common in both."
   ]
  },
  {
   "cell_type": "code",
   "execution_count": 10,
   "metadata": {},
   "outputs": [
    {
     "name": "stdout",
     "output_type": "stream",
     "text": [
      "{2, 6, 8, 10, 12}\n",
      "{8, 2, 10}\n"
     ]
    }
   ],
   "source": [
    "s1={2,6,8,12}\n",
    "s2={2,8,10}\n",
    "s1.update(s2) #perform union operation between s1 nd s2 and update output in s1.\n",
    "print(s1)\n",
    "print(s2)"
   ]
  },
  {
   "cell_type": "code",
   "execution_count": 11,
   "metadata": {},
   "outputs": [
    {
     "name": "stdout",
     "output_type": "stream",
     "text": [
      "{8, 2}\n",
      "{8, 2, 10}\n"
     ]
    }
   ],
   "source": [
    "s1={2,6,8,12}\n",
    "s2={2,8,10}\n",
    "s1.intersection_update(s2) # update set1 with the common elements present in both sets.\n",
    "print(s1)\n",
    "print(s2)"
   ]
  },
  {
   "cell_type": "code",
   "execution_count": 12,
   "metadata": {},
   "outputs": [
    {
     "name": "stdout",
     "output_type": "stream",
     "text": [
      "{6, 12}\n",
      "{8, 2, 10}\n"
     ]
    }
   ],
   "source": [
    "s1={2,6,8,12}\n",
    "s2={2,8,10}\n",
    "s1.difference_update(s2) #perform difference operation between s1 nd s2 and update output in s1.\n",
    "print(s1)\n",
    "print(s2)"
   ]
  },
  {
   "cell_type": "code",
   "execution_count": 13,
   "metadata": {},
   "outputs": [
    {
     "name": "stdout",
     "output_type": "stream",
     "text": [
      "{10, 12, 6}\n",
      "{8, 2, 10}\n"
     ]
    }
   ],
   "source": [
    "s1={2,6,8,12}\n",
    "s2={2,8,10}\n",
    "s1.symmetric_difference_update(s2) #Update the set, keeping only elements found in either set, but not in both.\n",
    "print(s1)\n",
    "print(s2)"
   ]
  },
  {
   "cell_type": "markdown",
   "metadata": {},
   "source": [
    "**Sets methods**"
   ]
  },
  {
   "cell_type": "code",
   "execution_count": 14,
   "metadata": {},
   "outputs": [
    {
     "name": "stdout",
     "output_type": "stream",
     "text": [
      "False\n",
      "True\n",
      "False\n"
     ]
    }
   ],
   "source": [
    "s1={1,2,3,4,5}\n",
    "s2={3,4,5}\n",
    "print(s1.issubset(s2)) #it checks whether s2 contains all elements of s1 or not\n",
    "print(s1.issuperset(s2)) #it checks whether s1 contains all elements of s2 or not \n",
    "print(s1.isdisjoint(s2)) #Return True if no elements is common in both the sets."
   ]
  },
  {
   "cell_type": "markdown",
   "metadata": {},
   "source": [
    "**Common doubts**"
   ]
  },
  {
   "cell_type": "code",
   "execution_count": 15,
   "metadata": {},
   "outputs": [
    {
     "ename": "TypeError",
     "evalue": "list expected at most 1 argument, got 3",
     "output_type": "error",
     "traceback": [
      "\u001b[31m---------------------------------------------------------------------------\u001b[39m",
      "\u001b[31mTypeError\u001b[39m                                 Traceback (most recent call last)",
      "\u001b[36mCell\u001b[39m\u001b[36m \u001b[39m\u001b[32mIn[15]\u001b[39m\u001b[32m, line 1\u001b[39m\n\u001b[32m----> \u001b[39m\u001b[32m1\u001b[39m l=\u001b[38;5;28;43mlist\u001b[39;49m\u001b[43m(\u001b[49m\u001b[32;43m1\u001b[39;49m\u001b[43m,\u001b[49m\u001b[32;43m2\u001b[39;49m\u001b[43m,\u001b[49m\u001b[32;43m3\u001b[39;49m\u001b[43m)\u001b[49m\n\u001b[32m      2\u001b[39m t=\u001b[38;5;28mtuple\u001b[39m(\u001b[32m1\u001b[39m,\u001b[32m23\u001b[39m,\u001b[32m3\u001b[39m)\n\u001b[32m      3\u001b[39m s=\u001b[38;5;28mset\u001b[39m(\u001b[32m1\u001b[39m,\u001b[32m23\u001b[39m,\u001b[32m3\u001b[39m)\n",
      "\u001b[31mTypeError\u001b[39m: list expected at most 1 argument, got 3"
     ]
    }
   ],
   "source": [
    "l=list(1,2,3)\n",
    "t=tuple(1,23,3)\n",
    "s=set(1,23,3)\n",
    "print(l,t,s)"
   ]
  },
  {
   "cell_type": "code",
   "execution_count": 1,
   "metadata": {},
   "outputs": [
    {
     "name": "stdout",
     "output_type": "stream",
     "text": [
      "[1, 2, 3] (1, 23, 3) {1, 3, 23}\n"
     ]
    }
   ],
   "source": [
    "#here we can pass a single arguments by grouping them with any brackets.\n",
    "l=list([1,2,3])\n",
    "t=tuple((1,23,3))\n",
    "s=set({1,23,3}) \n",
    "print(l,t,s)"
   ]
  },
  {
   "cell_type": "code",
   "execution_count": 17,
   "metadata": {},
   "outputs": [
    {
     "name": "stdout",
     "output_type": "stream",
     "text": [
      "[0, 1, 2, 3] (0, 1, 2, 3) {0, 1, 2, 3}\n"
     ]
    }
   ],
   "source": [
    "# here if we use any bracket then it will print link range(4) inside given bracket. \n",
    "l=list(range(4))\n",
    "t=tuple(range(4))\n",
    "s=set(range(4)) \n",
    "print(l,t,s)"
   ]
  },
  {
   "cell_type": "code",
   "execution_count": 18,
   "metadata": {},
   "outputs": [
    {
     "name": "stdout",
     "output_type": "stream",
     "text": [
      "[0, 1, 2, 3, 4] (0, 1, 2, 3, 4) {0, 1, 2, 3, 4}\n"
     ]
    }
   ],
   "source": [
    "# here also no need to use any bracket if we use output remains same\n",
    "l=list(i for i in range(5))\n",
    "t=tuple(i for i in range(5))\n",
    "s=set(i for i in range(5))\n",
    "print(l,t,s)"
   ]
  },
  {
   "cell_type": "code",
   "execution_count": 19,
   "metadata": {},
   "outputs": [
    {
     "name": "stdout",
     "output_type": "stream",
     "text": [
      "{'sets', 'in', 'we', 'about', 'In', 'discussing', 'will', 'be', 'this', 'tutorial'}\n"
     ]
    }
   ],
   "source": [
    "#counting unique words in a text\n",
    "text='In this tutorial we will be discussing about sets sets in'\n",
    "words=text.split(' ')\n",
    "unique_words=set(words)\n",
    "print(unique_words)"
   ]
  }
 ],
 "metadata": {
  "kernelspec": {
   "display_name": "Python 3",
   "language": "python",
   "name": "python3"
  },
  "language_info": {
   "codemirror_mode": {
    "name": "ipython",
    "version": 3
   },
   "file_extension": ".py",
   "mimetype": "text/x-python",
   "name": "python",
   "nbconvert_exporter": "python",
   "pygments_lexer": "ipython3",
   "version": "3.13.2"
  }
 },
 "nbformat": 4,
 "nbformat_minor": 2
}
