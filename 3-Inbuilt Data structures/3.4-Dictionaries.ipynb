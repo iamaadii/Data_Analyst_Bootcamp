{
 "cells": [
  {
   "cell_type": "markdown",
   "metadata": {},
   "source": [
    "**Introduction to Dictionaries**\n",
    "- Dictionaries are unordered collections of items. They store data in key-value pairs. Keys must be unique and immutable (e.g., strings, numbers, or tuples), while values can be of any type."
   ]
  },
  {
   "cell_type": "code",
   "execution_count": 1,
   "metadata": {},
   "outputs": [
    {
     "name": "stdout",
     "output_type": "stream",
     "text": [
      "{} {}\n",
      "<class 'dict'> <class 'dict'>\n"
     ]
    }
   ],
   "source": [
    "empty1=dict()\n",
    "empty2={}\n",
    "print(empty1,empty2)\n",
    "print(type(empty1),type(empty2))"
   ]
  },
  {
   "cell_type": "code",
   "execution_count": null,
   "metadata": {},
   "outputs": [
    {
     "name": "stdout",
     "output_type": "stream",
     "text": [
      "{'name': 'aman', 'age': 19}\n"
     ]
    }
   ],
   "source": [
    "# always try to use unique key it will not cause any error if u don't use it\n",
    "d=dict({'name':'aditya','age':19,'name':'aman'})\n",
    "print(d) "
   ]
  },
  {
   "cell_type": "markdown",
   "metadata": {},
   "source": [
    "**Accessing dictionary value**"
   ]
  },
  {
   "cell_type": "code",
   "execution_count": 14,
   "metadata": {},
   "outputs": [
    {
     "name": "stdout",
     "output_type": "stream",
     "text": [
      "aditya\n",
      "19\n",
      "None\n",
      "not available\n"
     ]
    }
   ],
   "source": [
    "details={'name':'aditya','age':19,'section':'A'}\n",
    "\n",
    "# using key: gives an error if key is not present \n",
    "print(details['name'])\n",
    "\n",
    "# using get() method: Not give any error if key is not present \n",
    "print(details.get('age'))\n",
    "print(details.get('last_name'))\n",
    "print(details.get('last_name',\"not available\"))"
   ]
  },
  {
   "cell_type": "markdown",
   "metadata": {},
   "source": [
    "**Modify dictionary**"
   ]
  },
  {
   "cell_type": "code",
   "execution_count": 24,
   "metadata": {},
   "outputs": [
    {
     "name": "stdout",
     "output_type": "stream",
     "text": [
      "{'name': 'aditya', 'age': 20}\n",
      "{'name': 'aditya', 'age': 20, 'city': 'deoria'}\n",
      "{'name': 'aditya', 'age': 20, 'city': 'deoria', 'address': 'salempur'}\n",
      "{'name': 'aditya', 'age': 20, 'city': 'deoria', 'address': 'Hichhaura lala'}\n",
      "{'name': 'aditya', 'age': 20, 'city': 'deoria'}\n"
     ]
    }
   ],
   "source": [
    "student ={'name':'aditya','age':19}\n",
    "student['age'] = 20  # updating value of existing key\n",
    "print(student)  \n",
    "student['city']='deoria' # adding new key-value pair\n",
    "print(student)\n",
    "student.update({'address':'salempur'}) # used for both adding key-value pair and updating existing key\n",
    "print(student)\n",
    "student.update({'address':'Hichhaura lala'})\n",
    "print(student)\n",
    "del student['address'] # deleting key-value pair\n",
    "print(student) "
   ]
  },
  {
   "cell_type": "markdown",
   "metadata": {},
   "source": [
    "**dictionary methods**"
   ]
  },
  {
   "cell_type": "code",
   "execution_count": 28,
   "metadata": {},
   "outputs": [
    {
     "name": "stdout",
     "output_type": "stream",
     "text": [
      "dict_keys([1, 2, 3])\n",
      "dict_values(['aditya', 'aman', 'varad'])\n",
      "dict_items([(1, 'aditya'), (2, 'aman'), (3, 'varad')])\n",
      "{1: 'aditya', 2: 'aman', 3: 'varad'}\n",
      "{1: 'aditya', 2: 'aman', 3: 'varad'}\n"
     ]
    }
   ],
   "source": [
    "dict={1:'aditya',2:'aman',3:'varad'}\n",
    "print(dict.keys())\n",
    "print(dict.values())\n",
    "print(dict.items())\n",
    "\n",
    "#shallow copy\n",
    "dict_cpy=dict.copy()\n",
    "print(dict_cpy)\n",
    "print(dict)"
   ]
  },
  {
   "cell_type": "markdown",
   "metadata": {},
   "source": [
    "**Iterating over dictionaries**"
   ]
  },
  {
   "cell_type": "code",
   "execution_count": 32,
   "metadata": {},
   "outputs": [
    {
     "name": "stdout",
     "output_type": "stream",
     "text": [
      "1\n",
      "2\n",
      "3\n",
      "shirt\n",
      "pants\n",
      "shoes\n",
      "1:shirt\n",
      "2:pants\n",
      "3:shoes\n"
     ]
    }
   ],
   "source": [
    "d={'1':'shirt',2:'pants',3:'shoes'}\n",
    "\n",
    "# iterating over keys\n",
    "for key in d.keys():\n",
    "    print(key)  \n",
    "    \n",
    "# iterating over values\n",
    "for value in d.values():\n",
    "    print(value)  \n",
    "\n",
    "# iterating over key-value pairs\n",
    "for key,value in d.items():\n",
    "    print(f'{key}:{value}')"
   ]
  },
  {
   "cell_type": "markdown",
   "metadata": {},
   "source": [
    "**Nested dictionary**"
   ]
  },
  {
   "cell_type": "code",
   "execution_count": 39,
   "metadata": {},
   "outputs": [
    {
     "name": "stdout",
     "output_type": "stream",
     "text": [
      "Aditya\n",
      "student1:{'name': 'Aditya', 'age': 19}\n",
      "name:Aditya\n",
      "age:19\n",
      "student2:{'name': 'Ajay', 'age': 19}\n",
      "name:Ajay\n",
      "age:19\n"
     ]
    }
   ],
   "source": [
    "Students= { \n",
    "            'student1': {'name':'Aditya','age':19},\n",
    "            'student2': {'name':'Ajay','age':19},\n",
    "          }\n",
    "print(Students['student1']['name'])\n",
    "\n",
    "for student_id,student_info in Students.items():\n",
    "    print(f'{student_id}:{student_info}')\n",
    "    for key,value in student_info.items():\n",
    "        print(f'{key}:{value}')"
   ]
  },
  {
   "cell_type": "code",
   "execution_count": 44,
   "metadata": {},
   "outputs": [
    {
     "name": "stdout",
     "output_type": "stream",
     "text": [
      "{1: 1, 2: 4, 3: 9, 4: 16}\n"
     ]
    }
   ],
   "source": [
    "# Dictionary comprehension\n",
    "sqaure={i:i**2 for i in range(1,5)}\n",
    "print(sqaure)"
   ]
  },
  {
   "cell_type": "code",
   "execution_count": 50,
   "metadata": {},
   "outputs": [
    {
     "name": "stdout",
     "output_type": "stream",
     "text": [
      "{0: 0, 2: 4, 4: 16, 6: 36, 8: 64}\n"
     ]
    }
   ],
   "source": [
    "# Conditional dictionary comprehension\n",
    "even={i:i**2 for i in range(10) if i%2==0}\n",
    "print(even)  "
   ]
  },
  {
   "cell_type": "code",
   "execution_count": 60,
   "metadata": {},
   "outputs": [
    {
     "name": "stdout",
     "output_type": "stream",
     "text": [
      "{1: 2, 3: 3, 4: 4, 2: 3}\n"
     ]
    }
   ],
   "source": [
    "# USe a dictionary to count the occurence of elements in list\n",
    "numbers=[1,1,3,4,2,2,2,3,3,4,4,4]\n",
    "dict={}\n",
    "for i in numbers:\n",
    "    value=numbers.count(i)\n",
    "    dict.update({i:value})\n",
    "    \n",
    "print(dict)"
   ]
  },
  {
   "cell_type": "code",
   "execution_count": 67,
   "metadata": {},
   "outputs": [
    {
     "name": "stdout",
     "output_type": "stream",
     "text": [
      "{'a': 1, 'b': 2, 'c': 1, 'd': 2}\n"
     ]
    }
   ],
   "source": [
    "# merging two dictionary\n",
    "dict1 = {'a': 1, 'b': 2}\n",
    "dict2 = {'c': 1, 'd': 2}\n",
    "merged_dict={**dict1,**dict2}\n",
    "print(merged_dict)"
   ]
  }
 ],
 "metadata": {
  "kernelspec": {
   "display_name": "Python 3",
   "language": "python",
   "name": "python3"
  },
  "language_info": {
   "codemirror_mode": {
    "name": "ipython",
    "version": 3
   },
   "file_extension": ".py",
   "mimetype": "text/x-python",
   "name": "python",
   "nbconvert_exporter": "python",
   "pygments_lexer": "ipython3",
   "version": "3.13.2"
  }
 },
 "nbformat": 4,
 "nbformat_minor": 2
}
