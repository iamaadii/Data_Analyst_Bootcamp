{
 "cells": [
  {
   "cell_type": "code",
   "execution_count": 3,
   "metadata": {},
   "outputs": [
    {
     "name": "stdout",
     "output_type": "stream",
     "text": [
      "Odd\n",
      "Even\n",
      "This function will check whether a given number is odd or even\n"
     ]
    }
   ],
   "source": [
    "#function with single arguments\n",
    "def even_odd(num):\n",
    "    '''This function will check whether a given number is odd or even'''  #docstring\n",
    "    print('Even') if num%2==0 else print('Odd')\n",
    "even_odd(5)\n",
    "even_odd(4)\n",
    "print(even_odd.__doc__)"
   ]
  },
  {
   "cell_type": "code",
   "execution_count": 5,
   "metadata": {},
   "outputs": [
    {
     "name": "stdout",
     "output_type": "stream",
     "text": [
      "12\n"
     ]
    }
   ],
   "source": [
    "# function with multiple arguments\n",
    "def sum(a,b):\n",
    "    return a+b\n",
    "print(sum(5,7))  "
   ]
  },
  {
   "cell_type": "code",
   "execution_count": 6,
   "metadata": {},
   "outputs": [
    {
     "name": "stdout",
     "output_type": "stream",
     "text": [
      "Hello, Aditya\n",
      "Hello, yash\n"
     ]
    }
   ],
   "source": [
    "# default arguments\n",
    "def greet(name='Aditya'):\n",
    "    print(f\"Hello, {name}\")\n",
    "greet()\n",
    "greet('yash')"
   ]
  },
  {
   "cell_type": "code",
   "execution_count": 9,
   "metadata": {},
   "outputs": [
    {
     "name": "stdout",
     "output_type": "stream",
     "text": [
      "<class 'tuple'>\n",
      "1\n",
      "2\n",
      "ajay\n"
     ]
    }
   ],
   "source": [
    "# variable length arguments\n",
    "\n",
    "#positional arguments\n",
    "\n",
    "def print_num(*args):\n",
    "    print(type(args))\n",
    "    for num in args:\n",
    "        print(num)\n",
    "        \n",
    "print_num(1,2,'ajay')"
   ]
  },
  {
   "cell_type": "code",
   "execution_count": 10,
   "metadata": {},
   "outputs": [
    {
     "name": "stdout",
     "output_type": "stream",
     "text": [
      "<class 'dict'>\n",
      "name : aditya\n",
      "age : 18\n"
     ]
    }
   ],
   "source": [
    "# keyword arguments\n",
    "def print_details(**kwargs):\n",
    "    print(type(kwargs))\n",
    "    for key, value in kwargs.items():\n",
    "        print(f'{key} : {value}')\n",
    "        \n",
    "print_details(name='aditya',age='18')"
   ]
  },
  {
   "cell_type": "code",
   "execution_count": 11,
   "metadata": {},
   "outputs": [
    {
     "name": "stdout",
     "output_type": "stream",
     "text": [
      "1\n",
      "2\n",
      "ajay\n",
      "name : aditya\n",
      "age : 18\n"
     ]
    }
   ],
   "source": [
    "# positional + keyword\n",
    "def print_details(*args,**kwargs):\n",
    "    for num in args:\n",
    "        print(num)\n",
    "    for key, value in kwargs.items():\n",
    "        print(f'{key} : {value}')\n",
    "\n",
    "print_details(1,2,'ajay',name='aditya',age='18')  "
   ]
  }
 ],
 "metadata": {
  "kernelspec": {
   "display_name": "Python 3",
   "language": "python",
   "name": "python3"
  },
  "language_info": {
   "codemirror_mode": {
    "name": "ipython",
    "version": 3
   },
   "file_extension": ".py",
   "mimetype": "text/x-python",
   "name": "python",
   "nbconvert_exporter": "python",
   "pygments_lexer": "ipython3",
   "version": "3.13.2"
  }
 },
 "nbformat": 4,
 "nbformat_minor": 2
}
