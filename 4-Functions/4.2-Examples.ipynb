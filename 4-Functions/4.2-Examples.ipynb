{
 "cells": [
  {
   "cell_type": "code",
   "execution_count": 1,
   "metadata": {},
   "outputs": [
    {
     "name": "stdout",
     "output_type": "stream",
     "text": [
      "False\n",
      "True\n"
     ]
    }
   ],
   "source": [
    "# password strength checker\n",
    "\n",
    "def is_password_strong(password):\n",
    "    if len(password)<8:\n",
    "        return False\n",
    "    \n",
    "    if not any(char.isdigit() for char in password):\n",
    "        return False\n",
    "    \n",
    "    if not any(char.islower() for char in password):\n",
    "        return False\n",
    "    \n",
    "    if not any(char.isupper() for char in password):\n",
    "        return False\n",
    "    \n",
    "    if not any(char in '!@#$%^&*()_+' for char in password):\n",
    "        return False\n",
    "    \n",
    "    return True\n",
    "\n",
    "print(is_password_strong('WeakPwd'))\n",
    "print(is_password_strong('Str5ngPwd!'))"
   ]
  },
  {
   "cell_type": "code",
   "execution_count": 9,
   "metadata": {},
   "outputs": [
    {
     "name": "stdout",
     "output_type": "stream",
     "text": [
      "total cost:  980\n"
     ]
    }
   ],
   "source": [
    "# calculate total of item in shopping cart\n",
    "def calculate_cost(cart):\n",
    "    total_cost=0\n",
    "    for item in cart:\n",
    "        total_cost+=item['price']*item['quantity']\n",
    "    \n",
    "    print('total cost: ',total_cost)\n",
    "\n",
    "cart=[\n",
    "    {'name':'Apple','price':200,'quantity':2},\n",
    "    {'name':'Orange','price':100,'quantity':3},\n",
    "    {'name':'Grapes','price':70,'quantity':4}\n",
    "]\n",
    "calculate_cost(cart)\n"
   ]
  },
  {
   "cell_type": "code",
   "execution_count": 2,
   "metadata": {},
   "outputs": [
    {
     "name": "stdout",
     "output_type": "stream",
     "text": [
      "amanaplanacanalpanama\n",
      "True\n"
     ]
    }
   ],
   "source": [
    "# check whether string is pallindrome or not\n",
    "def is_pallindrome(str):\n",
    "    s=str.lower().replace(\" \",\"\")\n",
    "    print(s)\n",
    "    return s==s[::-1]\n",
    "\n",
    "print(is_pallindrome('A man a plan a canal Panama'))"
   ]
  },
  {
   "cell_type": "code",
   "execution_count": 18,
   "metadata": {},
   "outputs": [
    {
     "name": "stdout",
     "output_type": "stream",
     "text": [
      "{'hello': 1, 'world': 1, 'i': 2, 'am': 2, 'aditya': 1, 'from': 1}\n"
     ]
    }
   ],
   "source": [
    "# read a file and count the frequency of ech word\n",
    "def word_frequency(file):\n",
    "    word_count={}\n",
    "    with open(file, 'r') as f:\n",
    "        text=f.read().lower()\n",
    "        list=text.split()\n",
    "        for word in list:\n",
    "            count=0\n",
    "            w=word.lower().strip('.,!?;:\"\\'')\n",
    "            word_count[word]=word_count.get(word,0)+1\n",
    "    print(word_count)\n",
    "\n",
    "word_frequency('a.txt')"
   ]
  },
  {
   "cell_type": "code",
   "execution_count": null,
   "metadata": {},
   "outputs": [],
   "source": []
  }
 ],
 "metadata": {
  "kernelspec": {
   "display_name": "Python 3",
   "language": "python",
   "name": "python3"
  },
  "language_info": {
   "codemirror_mode": {
    "name": "ipython",
    "version": 3
   },
   "file_extension": ".py",
   "mimetype": "text/x-python",
   "name": "python",
   "nbconvert_exporter": "python",
   "pygments_lexer": "ipython3",
   "version": "3.13.2"
  }
 },
 "nbformat": 4,
 "nbformat_minor": 2
}
