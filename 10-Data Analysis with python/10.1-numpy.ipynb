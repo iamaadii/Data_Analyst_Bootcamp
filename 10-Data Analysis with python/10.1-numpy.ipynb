{
 "cells": [
  {
   "cell_type": "markdown",
   "id": "030de479",
   "metadata": {},
   "source": [
    "Numpy:\n",
    "- Stands for numerical python\n",
    "- Allows us to work with multi-dimensional arrays (especially NumPy arrays, which are faster and more efficient than Python lists)\n",
    "- Allows us to perform mathematical operations on arrays quickly and efficiently"
   ]
  },
  {
   "cell_type": "code",
   "execution_count": 3,
   "id": "b798c45c",
   "metadata": {},
   "outputs": [
    {
     "name": "stdout",
     "output_type": "stream",
     "text": [
      "Requirement already satisfied: numpy in d:\\data_analyst_bootcamp\\myenv\\lib\\site-packages (2.2.5)\n",
      "Note: you may need to restart the kernel to use updated packages.\n"
     ]
    }
   ],
   "source": [
    "%pip install numpy"
   ]
  },
  {
   "cell_type": "code",
   "execution_count": 2,
   "metadata": {},
   "outputs": [
    {
     "name": "stdout",
     "output_type": "stream",
     "text": [
      "[1 2 3 4]\n",
      "<class 'numpy.ndarray'>\n",
      "(4,)\n",
      "1\n"
     ]
    }
   ],
   "source": [
    "import numpy as np\n",
    "\n",
    "#creating 1-d array\n",
    "arr1 = np.array([1,2,3,4])  \n",
    "print(arr1)\n",
    "print(type(arr1))\n",
    "print(arr1.shape)\n",
    "print(arr1.ndim)"
   ]
  },
  {
   "cell_type": "code",
   "execution_count": 93,
   "id": "eb675805",
   "metadata": {},
   "outputs": [
    {
     "name": "stdout",
     "output_type": "stream",
     "text": [
      "[[1]\n",
      " [2]\n",
      " [3]\n",
      " [4]\n",
      " [5]]\n",
      "(5,)\n"
     ]
    }
   ],
   "source": [
    "#converting 1-d array into 2-d array\n",
    "arr2=np.array([1,2,3,4,5])\n",
    "print(arr2.reshape(5,1)) #5row 1col\n",
    "print(arr2.shape)"
   ]
  },
  {
   "cell_type": "code",
   "execution_count": 97,
   "id": "0ef907ea",
   "metadata": {},
   "outputs": [
    {
     "name": "stdout",
     "output_type": "stream",
     "text": [
      "[[ 1  2  3]\n",
      " [ 4  5  6]\n",
      " [ 8  9 10]]\n",
      "(3, 3)\n",
      "2\n",
      "9\n",
      "int64\n",
      "8\n"
     ]
    }
   ],
   "source": [
    "#creating a 2-d array\n",
    "arr2=np.array([[1,2,3],[4,5,6],[8,9,10]])\n",
    "print(arr2)\n",
    "print(arr2.shape) #get dimensions\n",
    "print(arr2.ndim) #to get dimension\n",
    "print(arr2.size) #get total number of elements\n",
    "print(arr2.dtype) #get data type\n",
    "print(arr2.itemsize) #to get itemsize in bytes"
   ]
  },
  {
   "cell_type": "markdown",
   "id": "90118f48",
   "metadata": {},
   "source": [
    "**Creating array Inbulit functions**\n",
    "\n",
    "- np.arange(start,end,step) : is a similar function like range() which can take upto 3 parameters as an argument\n",
    "- np.ones(row,col) : to create array of ones\n",
    "- np.zeros(row,col) : to create array of zeros"
   ]
  },
  {
   "cell_type": "code",
   "execution_count": 85,
   "id": "b0747855",
   "metadata": {},
   "outputs": [
    {
     "name": "stdout",
     "output_type": "stream",
     "text": [
      "[[0]\n",
      " [1]\n",
      " [2]\n",
      " [3]\n",
      " [4]]\n",
      "[[1. 1. 1. 1.]\n",
      " [1. 1. 1. 1.]\n",
      " [1. 1. 1. 1.]]\n",
      "[[0. 0. 0. 0.]\n",
      " [0. 0. 0. 0.]\n",
      " [0. 0. 0. 0.]]\n",
      "[[1. 0. 0.]\n",
      " [0. 1. 0.]\n",
      " [0. 0. 1.]]\n"
     ]
    }
   ],
   "source": [
    "#creating array with some inbuilt functions\n",
    "print(np.arange(0,5).reshape(5,1))\n",
    "print(np.ones((3,4)))\n",
    "print(np.zeros((3,4)))\n",
    "print(np.eye(3,3))\n"
   ]
  },
  {
   "cell_type": "code",
   "execution_count": 95,
   "id": "b9bf6d3b",
   "metadata": {},
   "outputs": [
    {
     "name": "stdout",
     "output_type": "stream",
     "text": [
      "[2 4 6 8]\n",
      "[0 0 0 0]\n",
      "[ 1  4  9 16]\n",
      "[2 4 6 8]\n",
      "[1. 1. 1. 1.]\n",
      "[1 1 1 1]\n"
     ]
    }
   ],
   "source": [
    "#numpy vectorized operations\n",
    "import numpy as np\n",
    "arr1=np.array([1,2,3,4])\n",
    "arr2=np.array([1,2,3,4])\n",
    "\n",
    "print(arr1+arr2) #element wise addition\n",
    "print(arr1-arr2) #element wise substraction\n",
    "print(arr1*arr2) #element wise multiplication\n",
    "print(arr1*2) #multiply every element of arr1 with 2\n",
    "print(arr1/arr2) #element wise division\n",
    "print(arr1//arr2) #element wise floor division"
   ]
  },
  {
   "cell_type": "code",
   "execution_count": 42,
   "id": "07853ae1",
   "metadata": {},
   "outputs": [
    {
     "name": "stdout",
     "output_type": "stream",
     "text": [
      "[1.         1.41421356 1.73205081]\n",
      "[ 2.71828183  7.3890561  20.08553692]\n",
      "[0.84147098 0.90929743 0.14112001]\n",
      "[ 0.54030231 -0.41614684 -0.9899925 ]\n",
      "[0.         0.69314718 1.09861229]\n"
     ]
    }
   ],
   "source": [
    "#universal function\n",
    "arr=np.array([1,2,3])\n",
    "print(np.sqrt(arr))\n",
    "print(np.exp(arr))\n",
    "print(np.sin(arr))\n",
    "print(np.cos(arr))\n",
    "print(np.log(arr))"
   ]
  },
  {
   "cell_type": "code",
   "execution_count": 4,
   "id": "a6735711",
   "metadata": {},
   "outputs": [
    {
     "name": "stdout",
     "output_type": "stream",
     "text": [
      "[1 2 3]\n",
      "6\n",
      "[[4 5 6]\n",
      " [7 8 9]]\n",
      "[[6]\n",
      " [9]]\n",
      "[[1 2]\n",
      " [4 5]]\n"
     ]
    }
   ],
   "source": [
    "#array slicing and Indexing\n",
    "arr=np.array([[1,2,3],[4,5,6],[7,8,9]])\n",
    "print(arr[0]) #accesing 1st row\n",
    "print(arr[1][2]) #accesing 2nd row 3rd col element\n",
    "print(arr[1:]) #for getting all elements from 2nd row\n",
    "print(arr[1:,2:]) #for getting all elements from 2nd row and 3rd column\n",
    "print(arr[0:2,0:2])"
   ]
  },
  {
   "cell_type": "code",
   "execution_count": 54,
   "id": "acc38a98",
   "metadata": {},
   "outputs": [
    {
     "name": "stdout",
     "output_type": "stream",
     "text": [
      "[[1 2]\n",
      " [3 4]\n",
      " [5 6]]\n",
      "[[100   2]\n",
      " [  3   4]\n",
      " [  5   6]]\n",
      "[[100   2]\n",
      " [200 200]\n",
      " [200 200]]\n"
     ]
    }
   ],
   "source": [
    "#modifying array elements\n",
    "arr=np.array([[1,2],[3,4],[5,6]])\n",
    "print(arr)\n",
    "arr[0][0]=100\n",
    "print(arr)\n",
    "arr[1:]=200\n",
    "print(arr)"
   ]
  },
  {
   "cell_type": "code",
   "execution_count": 55,
   "id": "340bd16c",
   "metadata": {},
   "outputs": [
    {
     "name": "stdout",
     "output_type": "stream",
     "text": [
      "Normalized data: [-1.41421356 -0.70710678  0.          0.70710678  1.41421356]\n"
     ]
    }
   ],
   "source": [
    "### statistical concepts--Normalization\n",
    "##to have a mean of 0 and standard deviation of 1\n",
    "data = np.array([1, 2, 3, 4, 5])\n",
    "\n",
    "# Calculate the mean and standard deviation\n",
    "mean = np.mean(data)\n",
    "std_dev = np.std(data)\n",
    "\n",
    "# Normalize the data\n",
    "normalized_data = (data - mean) / std_dev\n",
    "print(\"Normalized data:\", normalized_data)"
   ]
  },
  {
   "cell_type": "code",
   "execution_count": 71,
   "id": "68e16c3e",
   "metadata": {},
   "outputs": [
    {
     "name": "stdout",
     "output_type": "stream",
     "text": [
      "Mean: 5.5\n",
      "Median: 5.5\n",
      "Standard Deviation: 2.8722813232690143\n",
      "Variance: 8.25\n"
     ]
    }
   ],
   "source": [
    "data = np.array([1, 2, 3, 4, 5, 6, 7, 8, 9, 10])\n",
    "\n",
    "# Mean\n",
    "mean = np.mean(data)\n",
    "print(\"Mean:\", mean)\n",
    "\n",
    "# Median\n",
    "print(\"Median:\", np.median(data))\n",
    "\n",
    "# Standard deviation\n",
    "print(\"Standard Deviation:\",np.std(data))\n",
    "\n",
    "# Variance\n",
    "print(\"Variance:\", np.var(data))"
   ]
  },
  {
   "cell_type": "code",
   "execution_count": 81,
   "id": "2cc37cfe",
   "metadata": {},
   "outputs": [
    {
     "name": "stdout",
     "output_type": "stream",
     "text": [
      "[False False False False  True  True  True]\n",
      "[4 5 6 7 8]\n",
      "[5 6]\n"
     ]
    }
   ],
   "source": [
    "# logical operations\n",
    "data=np.array([2,3,4,5,6,7,8])\n",
    "print(data>5)\n",
    "print(data[data>3])\n",
    "print(data[(data>4) & (data<7)])\n"
   ]
  }
 ],
 "metadata": {
  "kernelspec": {
   "display_name": "Python 3",
   "language": "python",
   "name": "python3"
  },
  "language_info": {
   "codemirror_mode": {
    "name": "ipython",
    "version": 3
   },
   "file_extension": ".py",
   "mimetype": "text/x-python",
   "name": "python",
   "nbconvert_exporter": "python",
   "pygments_lexer": "ipython3",
   "version": "3.13.2"
  }
 },
 "nbformat": 4,
 "nbformat_minor": 5
}
