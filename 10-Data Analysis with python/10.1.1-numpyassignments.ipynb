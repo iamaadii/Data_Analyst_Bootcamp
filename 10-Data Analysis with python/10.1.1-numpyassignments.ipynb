{
 "cells": [
  {
   "cell_type": "markdown",
   "id": "367544fa",
   "metadata": {},
   "source": [
    "### Assignment 1: Array Creation and Manipulation\n",
    "\n",
    "1. Create a NumPy array of shape (5, 5) filled with random integers between 1 and 20. Replace all the elements in the third column with 1."
   ]
  },
  {
   "cell_type": "code",
   "execution_count": 1,
   "id": "b009c77f",
   "metadata": {},
   "outputs": [
    {
     "name": "stdout",
     "output_type": "stream",
     "text": [
      "[[19 15 16 13 10]\n",
      " [10 15 16 16  6]\n",
      " [ 8 18  3  3 14]\n",
      " [10  3 17  7  3]\n",
      " [ 7 14  4  3  4]] \n",
      "\n",
      "[[19 15  1 13 10]\n",
      " [10 15  1 16  6]\n",
      " [ 8 18  1  3 14]\n",
      " [10  3  1  7  3]\n",
      " [ 7 14  1  3  4]]\n"
     ]
    }
   ],
   "source": [
    "import numpy as np\n",
    "array = np.random.randint(1, 21, size=(5, 5))\n",
    "print(array,\"\\n\")\n",
    "\n",
    "array[0:,2:3]=1\n",
    "print(array)"
   ]
  },
  {
   "cell_type": "markdown",
   "id": "f86a08f3",
   "metadata": {},
   "source": [
    "2. Create a NumPy array of shape (4, 4) with values from 1 to 16. Replace the diagonal elements with 0."
   ]
  },
  {
   "cell_type": "code",
   "execution_count": null,
   "id": "5130f3a0",
   "metadata": {},
   "outputs": [
    {
     "name": "stdout",
     "output_type": "stream",
     "text": [
      "[[ 1  2  3  4]\n",
      " [ 5  6  7  8]\n",
      " [ 9 10 11 12]\n",
      " [13 14 15 16]] \n",
      "\n",
      "[[ 0  2  3  4]\n",
      " [ 5  0  7  8]\n",
      " [ 9 10  0 12]\n",
      " [13 14 15  0]]\n"
     ]
    }
   ],
   "source": [
    "arr = np.arange(1, 17).reshape(4, 4)\n",
    "print(arr,\"\\n\")\n",
    "np.fill_diagonal(arr,0)\n",
    "print(arr)"
   ]
  },
  {
   "cell_type": "markdown",
   "id": "d6e99959",
   "metadata": {},
   "source": [
    "### Assignment 2: Array Indexing and Slicing\n",
    "\n",
    "1. Create a NumPy array of shape (6, 6) with values from 1 to 36. Extract the sub-array consisting of the 3rd to 5th rows and 2nd to 4th columns."
   ]
  },
  {
   "cell_type": "code",
   "execution_count": 3,
   "id": "5a142202",
   "metadata": {},
   "outputs": [
    {
     "name": "stdout",
     "output_type": "stream",
     "text": [
      "[[ 1  2  3  4  5  6]\n",
      " [ 7  8  9 10 11 12]\n",
      " [13 14 15 16 17 18]\n",
      " [19 20 21 22 23 24]\n",
      " [25 26 27 28 29 30]\n",
      " [31 32 33 34 35 36]] \n",
      "\n",
      "[[14 15 16]\n",
      " [20 21 22]\n",
      " [26 27 28]]\n"
     ]
    }
   ],
   "source": [
    "arr=np.arange(1,37).reshape(6,6)\n",
    "print(arr,\"\\n\")\n",
    "sub_arr=arr[2:5,1:4]\n",
    "print(sub_arr)"
   ]
  },
  {
   "cell_type": "markdown",
   "id": "09019884",
   "metadata": {},
   "source": [
    "2. Create a NumPy array of shape (5, 5) with random integers. Extract the elements on the border."
   ]
  },
  {
   "cell_type": "code",
   "execution_count": null,
   "id": "49489466",
   "metadata": {},
   "outputs": [
    {
     "name": "stdout",
     "output_type": "stream",
     "text": [
      "[[27 14 33 48 21]\n",
      " [44 29 19 31 37]\n",
      " [22 33 15 38 49]\n",
      " [36 40 20 46 42]\n",
      " [19 13 21 45 19]] \n",
      "\n",
      "[27 14 33 48 21 37 49 42 19 45 21 13 19 36 22 44]\n"
     ]
    }
   ],
   "source": [
    "arr=np.random.randint(10,51,size=(5,5))\n",
    "print(arr,\"\\n\")\n",
    "\n",
    "sub_arr=np.concatenate((arr[0], arr[1:-1,-1], arr[-1][::-1], arr[1:-1,0][::-1] ))\n",
    "print(sub_arr)"
   ]
  },
  {
   "cell_type": "markdown",
   "id": "8b054c60",
   "metadata": {},
   "source": [
    "### Assignment 3: Array Operations\n",
    "\n",
    "1. Create a NumPy array of shape (4, 4) with values from 1 to 16. Compute the row-wise and column-wise sum."
   ]
  },
  {
   "cell_type": "code",
   "execution_count": null,
   "id": "09a88878",
   "metadata": {},
   "outputs": [
    {
     "name": "stdout",
     "output_type": "stream",
     "text": [
      "[[ 1  2  3  4]\n",
      " [ 5  6  7  8]\n",
      " [ 9 10 11 12]\n",
      " [13 14 15 16]] \n",
      "\n",
      "[10 26 42 58]\n",
      "[28 32 36 40]\n"
     ]
    }
   ],
   "source": [
    "arr=np.arange(1,17).reshape(4,4)\n",
    "print(arr,\"\\n\")\n",
    "\n",
    "row_wise=np.sum(arr,axis=1)\n",
    "print(row_wise)\n",
    "column_wise=np.sum(arr,axis=0)\n",
    "print(column_wise)"
   ]
  },
  {
   "cell_type": "markdown",
   "id": "fd172933",
   "metadata": {},
   "source": [
    "### Assignment 5: Broadcasting\n",
    "\n",
    "1. Create a NumPy array of shape (3, 3) filled with random integers. Add a 1D array of shape (3,) to each row of the 2D array using broadcasting."
   ]
  },
  {
   "cell_type": "code",
   "execution_count": null,
   "id": "1cb26803",
   "metadata": {},
   "outputs": [
    {
     "name": "stdout",
     "output_type": "stream",
     "text": [
      "[[ 1  8  2]\n",
      " [ 2  5  3]\n",
      " [10  3  6]] \n",
      "\n",
      "[1 5 3] \n",
      "\n",
      "[[ 2 13  5]\n",
      " [ 3 10  6]\n",
      " [11  8  9]]\n"
     ]
    }
   ],
   "source": [
    "arr=np.random.randint(1,11,size=(3,3))\n",
    "print(arr,\"\\n\")\n",
    "row_array=np.random.randint(1,11,size=(3,))\n",
    "print(row_array,\"\\n\")\n",
    "result=arr+row_array\n",
    "print(result)"
   ]
  },
  {
   "cell_type": "markdown",
   "id": "29dea7e2",
   "metadata": {},
   "source": [
    "2. Create a NumPy array of shape (4, 4) filled with random integers. Subtract a 1D array of shape (4,) from each column of the 2D array using broadcasting."
   ]
  },
  {
   "cell_type": "code",
   "execution_count": null,
   "id": "15f7d5dc",
   "metadata": {},
   "outputs": [
    {
     "name": "stdout",
     "output_type": "stream",
     "text": [
      "[[5 4 7 3]\n",
      " [1 4 6 5]\n",
      " [9 9 9 6]\n",
      " [7 5 6 4]] \n",
      "\n",
      "[[4]\n",
      " [9]\n",
      " [9]\n",
      " [3]] \n",
      "\n",
      "[[ 1  0  3 -1]\n",
      " [-8 -5 -3 -4]\n",
      " [ 0  0  0 -3]\n",
      " [ 4  2  3  1]]\n"
     ]
    }
   ],
   "source": [
    "arr=np.random.randint(1,11,size=(4,4))\n",
    "column_array=np.random.randint(1,11,size=(4,1))\n",
    "result=arr-column_array\n",
    "print(arr,\"\\n\")\n",
    "print(column_array,\"\\n\")\n",
    "print(result)"
   ]
  },
  {
   "cell_type": "markdown",
   "id": "4742f65e",
   "metadata": {},
   "source": [
    "### Assignment 6: Linear Algebra\n",
    "\n",
    "1. Create a NumPy array of shape (3, 3) representing a matrix. Compute its determinant, inverse, and eigenvalues."
   ]
  },
  {
   "cell_type": "code",
   "execution_count": null,
   "id": "df45d490",
   "metadata": {},
   "outputs": [
    {
     "name": "stdout",
     "output_type": "stream",
     "text": [
      "[[10  3 10]\n",
      " [ 9  2  3]\n",
      " [ 7  5 10]] \n",
      "\n",
      "152.99999999999997\n",
      "[[ 0.03267974  0.13071895 -0.07189542]\n",
      " [-0.45098039  0.19607843  0.39215686]\n",
      " [ 0.20261438 -0.18954248 -0.04575163]]\n",
      "[21.01403261+0.j          0.4929837 +2.65288827j  0.4929837 -2.65288827j]\n"
     ]
    }
   ],
   "source": [
    "array=np.random.randint(1,11,size=(3,3))\n",
    "print(array,\"\\n\")\n",
    "\n",
    "determinant=np.linalg.det(array)\n",
    "inverse=np.linalg.inv(array)\n",
    "eigen_value=np.linalg.eigvals(array)\n",
    "print(determinant)\n",
    "print(inverse)\n",
    "print(eigen_value)"
   ]
  },
  {
   "cell_type": "markdown",
   "id": "c5211531",
   "metadata": {},
   "source": [
    "2. Create two NumPy arrays of shape (2, 3) and (3, 2). Perform matrix multiplication on these arrays."
   ]
  },
  {
   "cell_type": "code",
   "execution_count": null,
   "id": "5f16317b",
   "metadata": {},
   "outputs": [
    {
     "name": "stdout",
     "output_type": "stream",
     "text": [
      "[[ 4 10  5]\n",
      " [ 5  7  1]] \n",
      "\n",
      "[[6 8]\n",
      " [7 9]\n",
      " [3 1]] \n",
      "\n",
      "[[109 127]\n",
      " [ 82 104]]\n"
     ]
    }
   ],
   "source": [
    "array1 = np.random.randint(1, 11, size=(2, 3))\n",
    "array2 = np.random.randint(1, 11, size=(3, 2))\n",
    "result = np.dot(array1, array2)\n",
    "\n",
    "print(array1,\"\\n\")\n",
    "print(array2,\"\\n\")\n",
    "print(result)"
   ]
  },
  {
   "cell_type": "markdown",
   "id": "a59dc100",
   "metadata": {},
   "source": [
    "### Assignment 7: Advanced Array Manipulation\n",
    "\n",
    "1. Create a NumPy array of shape (3, 3) with values from 1 to 9. Reshape the array to shape (1, 9) and then to shape (9, 1)."
   ]
  },
  {
   "cell_type": "code",
   "execution_count": null,
   "id": "06a2663d",
   "metadata": {},
   "outputs": [
    {
     "name": "stdout",
     "output_type": "stream",
     "text": [
      "[[1 2 3]\n",
      " [4 5 6]\n",
      " [7 8 9]] \n",
      "\n",
      "[[1 2 3 4 5 6 7 8 9]] \n",
      "\n",
      "[[1]\n",
      " [2]\n",
      " [3]\n",
      " [4]\n",
      " [5]\n",
      " [6]\n",
      " [7]\n",
      " [8]\n",
      " [9]]\n"
     ]
    }
   ],
   "source": [
    "array=np.arange(1,10).reshape(3,3)\n",
    "print(array,\"\\n\")\n",
    "\n",
    "array1=array.reshape(1,9)\n",
    "print(array1,\"\\n\")\n",
    "\n",
    "array2=array1.reshape(9,1)\n",
    "print(array2)"
   ]
  },
  {
   "cell_type": "markdown",
   "id": "3c5aa0f1",
   "metadata": {},
   "source": [
    "2. Create a NumPy array of shape (5, 5) filled with random integers. Flatten the array and then reshape it back to (5, 5)."
   ]
  },
  {
   "cell_type": "code",
   "execution_count": 5,
   "id": "bc529b6f",
   "metadata": {},
   "outputs": [
    {
     "name": "stdout",
     "output_type": "stream",
     "text": [
      "[[ 2 10  4 18  6]\n",
      " [ 7  1  8  4  6]\n",
      " [12 12  2  1 17]\n",
      " [11 10 17 19  7]\n",
      " [19 13 19  3  5]] \n",
      "\n",
      "[ 2 10  4 18  6  7  1  8  4  6 12 12  2  1 17 11 10 17 19  7 19 13 19  3\n",
      "  5] \n",
      "\n",
      "[[ 2 10  4 18  6]\n",
      " [ 7  1  8  4  6]\n",
      " [12 12  2  1 17]\n",
      " [11 10 17 19  7]\n",
      " [19 13 19  3  5]]\n"
     ]
    }
   ],
   "source": [
    "array = np.random.randint(1, 21, size=(5, 5))\n",
    "print(array,\"\\n\")\n",
    "\n",
    "flatten_array=array.flatten() #converts the 2D array to a 1D array.\n",
    "print(flatten_array,\"\\n\")\n",
    "\n",
    "print(flatten_array.reshape(5,5))"
   ]
  },
  {
   "cell_type": "markdown",
   "id": "3aa29f78",
   "metadata": {},
   "source": [
    "### Assignment 8: Fancy Indexing and Boolean Indexing\n",
    "\n",
    "1. Create a NumPy array of shape (5, 5) filled with random integers. Use fancy indexing to extract the elements at the corners of the array."
   ]
  },
  {
   "cell_type": "code",
   "execution_count": 15,
   "id": "d12a06fa",
   "metadata": {},
   "outputs": [
    {
     "name": "stdout",
     "output_type": "stream",
     "text": [
      "[[ 2 10  6  9  1]\n",
      " [ 2  5  7  6  8]\n",
      " [ 6  9  7  9  9]\n",
      " [ 6  8  7 10  4]\n",
      " [ 4 10  3  4  3]] \n",
      "\n",
      "[2 1 4 3] \n",
      "\n"
     ]
    }
   ],
   "source": [
    "array=np.random.randint(1,11,size=(5,5))\n",
    "print(array,\"\\n\")\n",
    "\n",
    "corners = array[[0, 0, -1, -1], [0, -1, 0, -1]] #array[[rows],[columns]]\n",
    "print(corners,\"\\n\")"
   ]
  },
  {
   "cell_type": "markdown",
   "id": "011a76a4",
   "metadata": {},
   "source": [
    "2. Create a NumPy array of shape (4, 4) filled with random integers. Use boolean indexing to set all elements greater than 10 to 10."
   ]
  },
  {
   "cell_type": "code",
   "execution_count": null,
   "id": "e1931bb3",
   "metadata": {},
   "outputs": [
    {
     "name": "stdout",
     "output_type": "stream",
     "text": [
      "[[17 10 14  3]\n",
      " [10 10  8  3]\n",
      " [12  5  1 12]\n",
      " [ 7 14 14 17]] \n",
      "\n",
      "[[10 10 10  3]\n",
      " [10 10  8  3]\n",
      " [10  5  1 10]\n",
      " [ 7 10 10 10]]\n"
     ]
    }
   ],
   "source": [
    "array = np.random.randint(1, 21, size=(4, 4))\n",
    "print(array,\"\\n\")\n",
    "array[array > 10]=10\n",
    "print(array)\n"
   ]
  },
  {
   "cell_type": "markdown",
   "id": "6f8bd2a8",
   "metadata": {},
   "source": [
    "### Assignment 9: Structured Arrays\n",
    "\n",
    "1. Create a structured array with fields 'name' (string), 'age' (integer), and 'weight' (float). Add some data and sort the array by age."
   ]
  },
  {
   "cell_type": "code",
   "execution_count": null,
   "id": "9c3bbdd2",
   "metadata": {},
   "outputs": [
    {
     "name": "stdout",
     "output_type": "stream",
     "text": [
      "Original array:\n",
      "[('Alice', 25, 55.5) ('Bob', 30, 85.3) ('Charlie', 20, 65.2)]\n",
      "Sorted array by age:\n",
      "[('Charlie', 20, 65.2) ('Alice', 25, 55.5) ('Bob', 30, 85.3)]\n"
     ]
    }
   ],
   "source": [
    "data_type = [('name', 'U10'), ('age', 'i4'), ('weight', 'f4')]\n",
    "data = np.array([('Alice', 25, 55.5), ('Bob', 30, 85.3), ('Charlie', 20, 65.2)], dtype=data_type)\n",
    "print(\"Original array:\")\n",
    "print(data)\n",
    "\n",
    "# Sort the array by age\n",
    "sorted_data = np.sort(data, order='age')\n",
    "print(\"Sorted array by age:\")\n",
    "print(sorted_data)"
   ]
  },
  {
   "cell_type": "markdown",
   "id": "826b0946",
   "metadata": {},
   "source": [
    "2. Create a structured array with fields 'x' and 'y' (both integers). Add some data and compute the Euclidean distance between each pair of points."
   ]
  },
  {
   "cell_type": "code",
   "execution_count": null,
   "id": "f2a18310",
   "metadata": {},
   "outputs": [
    {
     "name": "stdout",
     "output_type": "stream",
     "text": [
      "Original array:\n",
      "[(1, 2) (3, 4) (5, 6)]\n",
      "Euclidean distances:\n",
      "[[0.         2.82842712 5.65685425]\n",
      " [2.82842712 0.         2.82842712]\n",
      " [5.65685425 2.82842712 0.        ]]\n"
     ]
    }
   ],
   "source": [
    "data_type = [('x', 'i4'), ('y', 'i4')]\n",
    "data = np.array([(1, 2), (3, 4), (5, 6)], dtype=data_type)\n",
    "print(\"Original array:\")\n",
    "print(data)\n",
    "\n",
    "# Compute the Euclidean distance between each pair of points\n",
    "distances = np.sqrt((data['x'][:, np.newaxis] - data['x'])**2 + (data['y'][:, np.newaxis] - data['y'])**2)\n",
    "print(\"Euclidean distances:\")\n",
    "print(distances)"
   ]
  },
  {
   "cell_type": "markdown",
   "id": "2cb85f79",
   "metadata": {},
   "source": [
    "### Assignment 10: Masked Arrays\n",
    "\n",
    "1. Create a masked array of shape (4, 4) with random integers and mask the elements greater than 10. Compute the sum of the unmasked elements."
   ]
  },
  {
   "cell_type": "code",
   "execution_count": null,
   "id": "8937e823",
   "metadata": {},
   "outputs": [
    {
     "name": "stdout",
     "output_type": "stream",
     "text": [
      "Original array:\n",
      "[[18  1 13 17]\n",
      " [12  5 20  6]\n",
      " [ 6 18 12 18]\n",
      " [10 15 17 10]]\n",
      "Masked array:\n",
      "[[-- 1 -- --]\n",
      " [-- 5 -- 6]\n",
      " [6 -- -- --]\n",
      " [10 -- -- 10]]\n",
      "Sum of unmasked elements: 38\n"
     ]
    }
   ],
   "source": [
    "import numpy.ma as ma\n",
    "\n",
    "# Create a masked array of shape (4, 4) with random integers\n",
    "array = np.random.randint(1, 21, size=(4, 4))\n",
    "masked_array = ma.masked_greater(array, 10)\n",
    "print(\"Original array:\")\n",
    "print(array)\n",
    "print(\"Masked array:\")\n",
    "print(masked_array)\n",
    "\n",
    "# Compute the sum of the unmasked elements\n",
    "sum_unmasked = masked_array.sum()\n",
    "print(\"Sum of unmasked elements:\", sum_unmasked)"
   ]
  },
  {
   "cell_type": "markdown",
   "id": "7dfbef5a",
   "metadata": {},
   "source": [
    "2. Create a masked array of shape (3, 3) with random integers and mask the diagonal elements. Replace the masked elements with the mean of the unmasked elements."
   ]
  },
  {
   "cell_type": "code",
   "execution_count": 87,
   "id": "fb169515",
   "metadata": {},
   "outputs": [
    {
     "name": "stdout",
     "output_type": "stream",
     "text": [
      "Original array:\n",
      "[[11  3  8]\n",
      " [20  2 16]\n",
      " [10 18  8]]\n",
      "Masked array:\n",
      "[[-- 3 8]\n",
      " [20 -- 16]\n",
      " [10 18 --]]\n",
      "Modified masked array:\n",
      "[[12  3  8]\n",
      " [20 12 16]\n",
      " [10 18 12]]\n"
     ]
    }
   ],
   "source": [
    "# Create a masked array of shape (3, 3) with random integers\n",
    "array = np.random.randint(1, 21, size=(3, 3))\n",
    "masked_array = ma.masked_array(array, mask=np.eye(3, dtype=bool))\n",
    "print(\"Original array:\")\n",
    "print(array)\n",
    "print(\"Masked array:\")\n",
    "print(masked_array)\n",
    "\n",
    "# Replace the masked elements with the mean of the unmasked elements\n",
    "mean_unmasked = masked_array.mean()\n",
    "masked_array = masked_array.filled(mean_unmasked)\n",
    "print(\"Modified masked array:\")\n",
    "print(masked_array)"
   ]
  }
 ],
 "metadata": {
  "kernelspec": {
   "display_name": "Python 3",
   "language": "python",
   "name": "python3"
  },
  "language_info": {
   "codemirror_mode": {
    "name": "ipython",
    "version": 3
   },
   "file_extension": ".py",
   "mimetype": "text/x-python",
   "name": "python",
   "nbconvert_exporter": "python",
   "pygments_lexer": "ipython3",
   "version": "3.13.2"
  }
 },
 "nbformat": 4,
 "nbformat_minor": 5
}
